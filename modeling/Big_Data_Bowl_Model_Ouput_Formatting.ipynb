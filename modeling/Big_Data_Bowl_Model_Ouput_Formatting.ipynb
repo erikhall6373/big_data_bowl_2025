{
  "nbformat": 4,
  "nbformat_minor": 0,
  "metadata": {
    "colab": {
      "provenance": []
    },
    "kernelspec": {
      "name": "python3",
      "display_name": "Python 3"
    },
    "language_info": {
      "name": "python"
    }
  },
  "cells": [
    {
      "cell_type": "code",
      "execution_count": 1,
      "metadata": {
        "colab": {
          "base_uri": "https://localhost:8080/"
        },
        "id": "yPXISgdoS--p",
        "outputId": "779b4f1f-89e5-4375-99fe-d7e66b0524fc"
      },
      "outputs": [
        {
          "output_type": "stream",
          "name": "stdout",
          "text": [
            "Collecting sportsdataverse\n",
            "  Downloading sportsdataverse-0.0.39-py3-none-any.whl.metadata (6.6 kB)\n",
            "Requirement already satisfied: numpy>=1.13.0 in /usr/local/lib/python3.10/dist-packages (from sportsdataverse) (1.26.4)\n",
            "Requirement already satisfied: pandas>=1.0.3 in /usr/local/lib/python3.10/dist-packages (from sportsdataverse) (2.2.2)\n",
            "Collecting polars<=0.18.15 (from sportsdataverse)\n",
            "  Downloading polars-0.18.15-cp38-abi3-manylinux_2_17_x86_64.manylinux2014_x86_64.whl.metadata (14 kB)\n",
            "Requirement already satisfied: tqdm>=4.50.0 in /usr/local/lib/python3.10/dist-packages (from sportsdataverse) (4.67.1)\n",
            "Requirement already satisfied: beautifulsoup4>=4.4.0 in /usr/local/lib/python3.10/dist-packages (from sportsdataverse) (4.12.3)\n",
            "Collecting inflection>=0.5.1 (from sportsdataverse)\n",
            "  Downloading inflection-0.5.1-py2.py3-none-any.whl.metadata (1.7 kB)\n",
            "Requirement already satisfied: requests>=2.18.1 in /usr/local/lib/python3.10/dist-packages (from sportsdataverse) (2.32.3)\n",
            "Requirement already satisfied: lxml>=4.2.1 in /usr/local/lib/python3.10/dist-packages (from sportsdataverse) (5.3.0)\n",
            "Requirement already satisfied: pyarrow>=8.0.0 in /usr/local/lib/python3.10/dist-packages (from sportsdataverse) (17.0.0)\n",
            "Collecting pyjanitor>=0.23.1 (from sportsdataverse)\n",
            "  Downloading pyjanitor-0.30.0-py3-none-any.whl.metadata (5.8 kB)\n",
            "Collecting pyreadr>=0.4.9 (from sportsdataverse)\n",
            "  Downloading pyreadr-0.5.2-cp310-cp310-manylinux_2_17_x86_64.manylinux2014_x86_64.whl.metadata (1.2 kB)\n",
            "Requirement already satisfied: scipy>=1.4.0 in /usr/local/lib/python3.10/dist-packages (from sportsdataverse) (1.13.1)\n",
            "Requirement already satisfied: matplotlib>=2.0.0 in /usr/local/lib/python3.10/dist-packages (from sportsdataverse) (3.8.0)\n",
            "Requirement already satisfied: attrs>=20.3.0 in /usr/local/lib/python3.10/dist-packages (from sportsdataverse) (24.3.0)\n",
            "Requirement already satisfied: xgboost>=1.2.0 in /usr/local/lib/python3.10/dist-packages (from sportsdataverse) (2.1.3)\n",
            "Requirement already satisfied: soupsieve>1.2 in /usr/local/lib/python3.10/dist-packages (from beautifulsoup4>=4.4.0->sportsdataverse) (2.6)\n",
            "Requirement already satisfied: contourpy>=1.0.1 in /usr/local/lib/python3.10/dist-packages (from matplotlib>=2.0.0->sportsdataverse) (1.3.1)\n",
            "Requirement already satisfied: cycler>=0.10 in /usr/local/lib/python3.10/dist-packages (from matplotlib>=2.0.0->sportsdataverse) (0.12.1)\n",
            "Requirement already satisfied: fonttools>=4.22.0 in /usr/local/lib/python3.10/dist-packages (from matplotlib>=2.0.0->sportsdataverse) (4.55.3)\n",
            "Requirement already satisfied: kiwisolver>=1.0.1 in /usr/local/lib/python3.10/dist-packages (from matplotlib>=2.0.0->sportsdataverse) (1.4.7)\n",
            "Requirement already satisfied: packaging>=20.0 in /usr/local/lib/python3.10/dist-packages (from matplotlib>=2.0.0->sportsdataverse) (24.2)\n",
            "Requirement already satisfied: pillow>=6.2.0 in /usr/local/lib/python3.10/dist-packages (from matplotlib>=2.0.0->sportsdataverse) (11.0.0)\n",
            "Requirement already satisfied: pyparsing>=2.3.1 in /usr/local/lib/python3.10/dist-packages (from matplotlib>=2.0.0->sportsdataverse) (3.2.0)\n",
            "Requirement already satisfied: python-dateutil>=2.7 in /usr/local/lib/python3.10/dist-packages (from matplotlib>=2.0.0->sportsdataverse) (2.8.2)\n",
            "Requirement already satisfied: pytz>=2020.1 in /usr/local/lib/python3.10/dist-packages (from pandas>=1.0.3->sportsdataverse) (2024.2)\n",
            "Requirement already satisfied: tzdata>=2022.7 in /usr/local/lib/python3.10/dist-packages (from pandas>=1.0.3->sportsdataverse) (2024.2)\n",
            "Requirement already satisfied: natsort in /usr/local/lib/python3.10/dist-packages (from pyjanitor>=0.23.1->sportsdataverse) (8.4.0)\n",
            "Collecting pandas_flavor (from pyjanitor>=0.23.1->sportsdataverse)\n",
            "  Downloading pandas_flavor-0.6.0-py3-none-any.whl.metadata (6.3 kB)\n",
            "Requirement already satisfied: multipledispatch in /usr/local/lib/python3.10/dist-packages (from pyjanitor>=0.23.1->sportsdataverse) (1.0.0)\n",
            "Requirement already satisfied: charset-normalizer<4,>=2 in /usr/local/lib/python3.10/dist-packages (from requests>=2.18.1->sportsdataverse) (3.4.0)\n",
            "Requirement already satisfied: idna<4,>=2.5 in /usr/local/lib/python3.10/dist-packages (from requests>=2.18.1->sportsdataverse) (3.10)\n",
            "Requirement already satisfied: urllib3<3,>=1.21.1 in /usr/local/lib/python3.10/dist-packages (from requests>=2.18.1->sportsdataverse) (2.2.3)\n",
            "Requirement already satisfied: certifi>=2017.4.17 in /usr/local/lib/python3.10/dist-packages (from requests>=2.18.1->sportsdataverse) (2024.12.14)\n",
            "Requirement already satisfied: nvidia-nccl-cu12 in /usr/local/lib/python3.10/dist-packages (from xgboost>=1.2.0->sportsdataverse) (2.23.4)\n",
            "Requirement already satisfied: six>=1.5 in /usr/local/lib/python3.10/dist-packages (from python-dateutil>=2.7->matplotlib>=2.0.0->sportsdataverse) (1.17.0)\n",
            "Requirement already satisfied: xarray in /usr/local/lib/python3.10/dist-packages (from pandas_flavor->pyjanitor>=0.23.1->sportsdataverse) (2024.11.0)\n",
            "Downloading sportsdataverse-0.0.39-py3-none-any.whl (8.4 MB)\n",
            "\u001b[2K   \u001b[90m━━━━━━━━━━━━━━━━━━━━━━━━━━━━━━━━━━━━━━━━\u001b[0m \u001b[32m8.4/8.4 MB\u001b[0m \u001b[31m36.5 MB/s\u001b[0m eta \u001b[36m0:00:00\u001b[0m\n",
            "\u001b[?25hDownloading inflection-0.5.1-py2.py3-none-any.whl (9.5 kB)\n",
            "Downloading polars-0.18.15-cp38-abi3-manylinux_2_17_x86_64.manylinux2014_x86_64.whl (19.6 MB)\n",
            "\u001b[2K   \u001b[90m━━━━━━━━━━━━━━━━━━━━━━━━━━━━━━━━━━━━━━━━\u001b[0m \u001b[32m19.6/19.6 MB\u001b[0m \u001b[31m47.6 MB/s\u001b[0m eta \u001b[36m0:00:00\u001b[0m\n",
            "\u001b[?25hDownloading pyjanitor-0.30.0-py3-none-any.whl (207 kB)\n",
            "\u001b[2K   \u001b[90m━━━━━━━━━━━━━━━━━━━━━━━━━━━━━━━━━━━━━━━━\u001b[0m \u001b[32m207.9/207.9 kB\u001b[0m \u001b[31m16.0 MB/s\u001b[0m eta \u001b[36m0:00:00\u001b[0m\n",
            "\u001b[?25hDownloading pyreadr-0.5.2-cp310-cp310-manylinux_2_17_x86_64.manylinux2014_x86_64.whl (416 kB)\n",
            "\u001b[2K   \u001b[90m━━━━━━━━━━━━━━━━━━━━━━━━━━━━━━━━━━━━━━━━\u001b[0m \u001b[32m417.0/417.0 kB\u001b[0m \u001b[31m25.1 MB/s\u001b[0m eta \u001b[36m0:00:00\u001b[0m\n",
            "\u001b[?25hDownloading pandas_flavor-0.6.0-py3-none-any.whl (7.2 kB)\n",
            "Installing collected packages: polars, inflection, pyreadr, pandas_flavor, pyjanitor, sportsdataverse\n",
            "  Attempting uninstall: polars\n",
            "    Found existing installation: polars 1.9.0\n",
            "    Uninstalling polars-1.9.0:\n",
            "      Successfully uninstalled polars-1.9.0\n",
            "Successfully installed inflection-0.5.1 pandas_flavor-0.6.0 polars-0.18.15 pyjanitor-0.30.0 pyreadr-0.5.2 sportsdataverse-0.0.39\n"
          ]
        }
      ],
      "source": [
        "!pip install sportsdataverse"
      ]
    },
    {
      "cell_type": "code",
      "source": [
        "!pip install great_tables"
      ],
      "metadata": {
        "colab": {
          "base_uri": "https://localhost:8080/"
        },
        "id": "jwUnD3afTD3F",
        "outputId": "fe2fe2cd-6c9e-4a13-e75d-e218ecb26727"
      },
      "execution_count": 2,
      "outputs": [
        {
          "output_type": "stream",
          "name": "stdout",
          "text": [
            "Collecting great_tables\n",
            "  Downloading great_tables-0.15.0-py3-none-any.whl.metadata (12 kB)\n",
            "Collecting commonmark>=0.9.1 (from great_tables)\n",
            "  Downloading commonmark-0.9.1-py2.py3-none-any.whl.metadata (5.7 kB)\n",
            "Collecting css-inline>=0.14.1 (from great_tables)\n",
            "  Downloading css_inline-0.14.6-cp37-abi3-manylinux_2_17_x86_64.manylinux2014_x86_64.whl.metadata (10 kB)\n",
            "Collecting faicons>=0.2.2 (from great_tables)\n",
            "  Downloading faicons-0.2.2-py3-none-any.whl.metadata (1.8 kB)\n",
            "Collecting htmltools>=0.4.1 (from great_tables)\n",
            "  Downloading htmltools-0.6.0-py3-none-any.whl.metadata (3.3 kB)\n",
            "Requirement already satisfied: importlib-metadata in /usr/local/lib/python3.10/dist-packages (from great_tables) (8.5.0)\n",
            "Requirement already satisfied: typing_extensions>=3.10.0.0 in /usr/local/lib/python3.10/dist-packages (from great_tables) (4.12.2)\n",
            "Requirement already satisfied: numpy>=1.22.4 in /usr/local/lib/python3.10/dist-packages (from great_tables) (1.26.4)\n",
            "Requirement already satisfied: Babel>=2.13.1 in /usr/local/lib/python3.10/dist-packages (from great_tables) (2.16.0)\n",
            "Requirement already satisfied: importlib-resources in /usr/local/lib/python3.10/dist-packages (from great_tables) (6.4.5)\n",
            "Requirement already satisfied: packaging>=20.9 in /usr/local/lib/python3.10/dist-packages (from htmltools>=0.4.1->great_tables) (24.2)\n",
            "Requirement already satisfied: zipp>=3.20 in /usr/local/lib/python3.10/dist-packages (from importlib-metadata->great_tables) (3.21.0)\n",
            "Downloading great_tables-0.15.0-py3-none-any.whl (1.4 MB)\n",
            "\u001b[2K   \u001b[90m━━━━━━━━━━━━━━━━━━━━━━━━━━━━━━━━━━━━━━━━\u001b[0m \u001b[32m1.4/1.4 MB\u001b[0m \u001b[31m16.1 MB/s\u001b[0m eta \u001b[36m0:00:00\u001b[0m\n",
            "\u001b[?25hDownloading commonmark-0.9.1-py2.py3-none-any.whl (51 kB)\n",
            "\u001b[2K   \u001b[90m━━━━━━━━━━━━━━━━━━━━━━━━━━━━━━━━━━━━━━━━\u001b[0m \u001b[32m51.1/51.1 kB\u001b[0m \u001b[31m3.5 MB/s\u001b[0m eta \u001b[36m0:00:00\u001b[0m\n",
            "\u001b[?25hDownloading css_inline-0.14.6-cp37-abi3-manylinux_2_17_x86_64.manylinux2014_x86_64.whl (1.9 MB)\n",
            "\u001b[2K   \u001b[90m━━━━━━━━━━━━━━━━━━━━━━━━━━━━━━━━━━━━━━━━\u001b[0m \u001b[32m1.9/1.9 MB\u001b[0m \u001b[31m65.2 MB/s\u001b[0m eta \u001b[36m0:00:00\u001b[0m\n",
            "\u001b[?25hDownloading faicons-0.2.2-py3-none-any.whl (607 kB)\n",
            "\u001b[2K   \u001b[90m━━━━━━━━━━━━━━━━━━━━━━━━━━━━━━━━━━━━━━━━\u001b[0m \u001b[32m607.2/607.2 kB\u001b[0m \u001b[31m30.9 MB/s\u001b[0m eta \u001b[36m0:00:00\u001b[0m\n",
            "\u001b[?25hDownloading htmltools-0.6.0-py3-none-any.whl (84 kB)\n",
            "\u001b[2K   \u001b[90m━━━━━━━━━━━━━━━━━━━━━━━━━━━━━━━━━━━━━━━━\u001b[0m \u001b[32m85.0/85.0 kB\u001b[0m \u001b[31m6.7 MB/s\u001b[0m eta \u001b[36m0:00:00\u001b[0m\n",
            "\u001b[?25hInstalling collected packages: commonmark, htmltools, css-inline, faicons, great_tables\n",
            "Successfully installed commonmark-0.9.1 css-inline-0.14.6 faicons-0.2.2 great_tables-0.15.0 htmltools-0.6.0\n"
          ]
        }
      ]
    },
    {
      "cell_type": "code",
      "source": [
        "import pandas as pd\n",
        "from great_tables import GT, html, style, loc\n",
        "import sportsdataverse as sdv"
      ],
      "metadata": {
        "id": "t6PPLydXTJpg"
      },
      "execution_count": 4,
      "outputs": []
    },
    {
      "cell_type": "code",
      "source": [
        "pd.set_option('display.max_columns', None)\n",
        "pd.set_option('display.max_rows', None)"
      ],
      "metadata": {
        "id": "r9Dgu90hU1xW"
      },
      "execution_count": 12,
      "outputs": []
    },
    {
      "cell_type": "code",
      "source": [
        "players_df = pd.read_parquet(\"https://raw.githubusercontent.com/erikhall6373/big_data_bowl_2025/refs/heads/main/data/players.parquet\")"
      ],
      "metadata": {
        "id": "L0zlxRvFVQSC"
      },
      "execution_count": 16,
      "outputs": []
    },
    {
      "cell_type": "code",
      "source": [
        "player_separation_df = pd.read_csv(\"https://raw.githubusercontent.com/erikhall6373/big_data_bowl_2025/refs/heads/main/modeling/separationaddedplayer.csv\")\n",
        "defender_separation_df = pd.read_csv(\"https://raw.githubusercontent.com/erikhall6373/big_data_bowl_2025/refs/heads/main/modeling/separationaddeddefender.csv\")\n",
        "team_separation_df = pd.read_csv(\"https://raw.githubusercontent.com/erikhall6373/big_data_bowl_2025/refs/heads/main/modeling/separationaddedteam.csv\")"
      ],
      "metadata": {
        "id": "-rtuPvYKTa6X"
      },
      "execution_count": 50,
      "outputs": []
    },
    {
      "cell_type": "code",
      "source": [
        "roster_df = sdv.nfl_loaders.load_nfl_rosters(seasons = [2022], return_as_pandas = True)"
      ],
      "metadata": {
        "colab": {
          "base_uri": "https://localhost:8080/"
        },
        "id": "vrYam17uWaVL",
        "outputId": "06005544-b78f-4075-9a45-82792e900d0b"
      },
      "execution_count": 21,
      "outputs": [
        {
          "output_type": "stream",
          "name": "stderr",
          "text": [
            "100%|██████████| 1/1 [00:00<00:00,  2.99it/s]\n"
          ]
        }
      ]
    },
    {
      "cell_type": "code",
      "source": [
        "roster_headshots_df = roster_df[[\"gsis_it_id\", \"full_name\", \"headshot_url\"]]\n",
        "roster_headshots_df = roster_headshots_df.rename(columns = {\"gsis_it_id\": \"nflId\"})\n",
        "roster_headshots_df[\"nflId\"] = roster_headshots_df[\"nflId\"].astype(int)"
      ],
      "metadata": {
        "id": "zTzpWXkDWcwB"
      },
      "execution_count": 35,
      "outputs": []
    },
    {
      "cell_type": "code",
      "source": [
        "def build_defender_summary_df():\n",
        "\n",
        "  defender_separation_top_10_df = defender_separation_df.sort_values(by = \"postSnapSeparationAdded\", ascending = True).head(10)\n",
        "  defender_separation_top_10_df[\"nflId\"] = defender_separation_top_10_df[\"defender_nflId\"].astype(int)\n",
        "  defender_separation_top_10_df = defender_separation_top_10_df[[\"nflId\", \"predictedMotionSeparation\", \"postSnapSeparationAdded\",\n",
        "                                                             \"percentRoutesWithAddedPostSnapSeparation\", \"count\"]]\n",
        "\n",
        "  defender_separation_top_10_df = defender_separation_top_10_df.merge(roster_headshots_df, on = \"nflId\", how = \"left\")\n",
        "\n",
        "  return defender_separation_top_10_df"
      ],
      "metadata": {
        "id": "Lv7nZqL_V6Ha"
      },
      "execution_count": 52,
      "outputs": []
    },
    {
      "cell_type": "code",
      "source": [
        "def build_player_summary_df():\n",
        "\n",
        "  player_separation_top_10_df = player_separation_df.sort_values(by = \"postSnapSeparationAdded\", ascending = False).head(10)\n",
        "  player_separation_top_10_df[\"nflId\"] = player_separation_top_10_df[\"nflId\"].astype(int)\n",
        "  player_separation_top_10_df = player_separation_top_10_df[[\"nflId\", \"predictedMotionSeparation\", \"postSnapSeparationAdded\",\n",
        "                                                             \"percentRoutesWithAddedPostSnapSeparation\", \"count\"]]\n",
        "\n",
        "  player_separation_top_10_df = player_separation_top_10_df.merge(roster_headshots_df, on = \"nflId\", how = \"left\")\n",
        "\n",
        "  return player_separation_top_10_df"
      ],
      "metadata": {
        "id": "4A7jzPWvX4y-"
      },
      "execution_count": 53,
      "outputs": []
    },
    {
      "cell_type": "code",
      "source": [
        "def create_headshot_html(summary_df):\n",
        "\n",
        "  result_df = summary_df.copy()\n",
        "  result_df[\"headshot_html\"] = result_df['headshot_url'].apply(lambda row: f'<img src=\"{row}\" height = 40;/>')\n",
        "\n",
        "  return result_df"
      ],
      "metadata": {
        "id": "MgUW8iitZFR7"
      },
      "execution_count": 56,
      "outputs": []
    },
    {
      "cell_type": "code",
      "source": [
        "def font_538_formatting(df, cols):\n",
        "\n",
        "  google_font = '<link href=\"https://fonts.googleapis.com/css?family=Chivo\" rel=\"stylesheet\">'\n",
        "\n",
        "  html_pre = f\"{google_font}<p style='font-family: Chivo; bottom: 0; font-size: 14px; weight: 200'> \"\n",
        "  html_post = \"</p>\"\n",
        "\n",
        "  result_df = df.copy()\n",
        "\n",
        "  for col in cols:\n",
        "    result_df[col] = result_df[col].apply(lambda row: f\"{html_pre}{row}{html_post}\")\n",
        "\n",
        "  return result_df"
      ],
      "metadata": {
        "id": "PeioYONDZzQE"
      },
      "execution_count": 57,
      "outputs": []
    },
    {
      "cell_type": "code",
      "source": [
        "def formatting_538(great_table_obj):\n",
        "  great_table_obj = great_table_obj.tab_options(column_labels_background_color = \"white\",\n",
        "                          data_row_padding = \"3px\",\n",
        "                          heading_border_bottom_style = None,\n",
        "                          table_border_top_width = \"3px\",\n",
        "                          table_border_top_style = None,\n",
        "                          table_border_bottom_style = None,\n",
        "                          column_labels_font_weight = \"normal\",\n",
        "                          column_labels_border_top_style = None,\n",
        "                          column_labels_border_bottom_width = \"2px\",\n",
        "                          column_labels_border_bottom_color = \"black\",\n",
        "                          row_group_border_top_style = None,\n",
        "                          row_group_border_top_color = \"black\",\n",
        "                          row_group_border_bottom_width = \"1px\",\n",
        "                          row_group_border_bottom_color = \"white\",\n",
        "                          stub_border_color = \"white\",\n",
        "                          stub_border_width = \"px\",\n",
        "                          source_notes_font_size = 12,\n",
        "                          source_notes_border_lr_style = None,\n",
        "                          table_font_size = 16,\n",
        "                          heading_align = \"left\")\n",
        "\n",
        "  return great_table_obj"
      ],
      "metadata": {
        "id": "a7kC_XWnZqeB"
      },
      "execution_count": 58,
      "outputs": []
    },
    {
      "cell_type": "code",
      "source": [
        "def hulk_color_formatting(cols, table, green_good = False, trim = False):\n",
        "\n",
        "  color_palette = [\"#1b7837\", \"#7fbf7b\", \"#d9f0d3\", \"#f7f7f7\", \"#e7d4e8\", \"#af8dc3\", \"#762a83\"]\n",
        "\n",
        "  if green_good:\n",
        "    color_palette = [\"#762a83\", \"#af8dc3\", \"#e7d4e8\", \"#f7f7f7\", \"#d9f0d3\", \"#7fbf7b\", \"#1b7837\"]\n",
        "\n",
        "  if trim:\n",
        "    color_palette = color_palette[1:len(color_palette) - 1]\n",
        "\n",
        "\n",
        "  result_table = table.data_color(columns = cols, palette = color_palette)\n",
        "\n",
        "  return result_table"
      ],
      "metadata": {
        "id": "4QhbYnXMZk7U"
      },
      "execution_count": 59,
      "outputs": []
    },
    {
      "cell_type": "code",
      "source": [
        "def build_summary_gt(summary_df, player_col, player_name_col, analysis_cols_dict, rank_col_dict):\n",
        "\n",
        "  summary_df = create_headshot_html(summary_df)\n",
        "  summary_df = font_538_formatting(summary_df, player_name_col)\n",
        "\n",
        "  analysis_col_names = list(analysis_cols_dict.keys())\n",
        "  analysis_cols_green_good = [analysis_col for analysis_col in list(analysis_cols_dict.keys()) if analysis_cols_dict[analysis_col] == 'good']\n",
        "  analysis_cols_green_bad = [analysis_col for analysis_col in list(analysis_cols_dict.keys()) if analysis_cols_dict[analysis_col] == 'bad']\n",
        "\n",
        "  rank_col_name = list(rank_col_dict.keys())[0]\n",
        "  rank_col_list = [rank_col_name]\n",
        "\n",
        "\n",
        "  order_cols = player_name_col + player_col + analysis_col_names + rank_col_list\n",
        "\n",
        "  #viz_df = font_538_formatting(viz_df, analysis_col_names)\n",
        "  result_table = GT(summary_df[order_cols])\n",
        "  result_table = formatting_538(result_table)\n",
        "  result_table = hulk_color_formatting(analysis_cols_green_good, result_table, green_good = True, trim = True)\n",
        "  result_table = hulk_color_formatting(analysis_cols_green_bad, result_table, trim = True)\n",
        "  result_table = hulk_color_formatting(rank_col_list, result_table, green_good = rank_col_dict[rank_col_name] == \"good\")\n",
        "  result_table = result_table.fmt_markdown(columns = player_col + player_name_col)\n",
        "\n",
        "  return result_table"
      ],
      "metadata": {
        "id": "pZ6ATYC-Z99z"
      },
      "execution_count": 89,
      "outputs": []
    },
    {
      "cell_type": "code",
      "source": [
        "def cleanup_gt_formatting(summary_gt_object):\n",
        "\n",
        "  result_gt = summary_gt_object.fmt_number(columns=[\"percentRoutesWithAddedPostSnapSeparation\", \"postSnapSeparationAdded\"], decimals = 2)\n",
        "\n",
        "  result_gt = result_gt.cols_label(full_name = 'Player', headshot_html = \"\",\n",
        "                                   percentRoutesWithAddedPostSnapSeparation = \"Percent of Routes with Separation Added\",\n",
        "                                   count = \"Number of Plays\",\n",
        "                                   postSnapSeparationAdded = 'Post Snap Separation Added',\n",
        "                                   )\n",
        "\n",
        "  return result_gt"
      ],
      "metadata": {
        "id": "70F5xCkMcZ-6"
      },
      "execution_count": 90,
      "outputs": []
    },
    {
      "cell_type": "code",
      "source": [
        "player_summary_gt = build_summary_gt(summary_df = build_player_summary_df(),\n",
        "                        player_col = [\"headshot_html\"],\n",
        "                        player_name_col = [\"full_name\"],\n",
        "                        analysis_cols_dict = {\"percentRoutesWithAddedPostSnapSeparation\" : \"good\", \"count\" : \"good\"},\n",
        "                        rank_col_dict = {\"postSnapSeparationAdded\" : \"good\"})\n",
        "\n",
        "player_summary_gt = cleanup_gt_formatting(player_summary_gt)"
      ],
      "metadata": {
        "id": "a0cgiHhfabEP"
      },
      "execution_count": 93,
      "outputs": []
    },
    {
      "cell_type": "code",
      "source": [
        "defender_summary_gt = build_summary_gt(summary_df = build_defender_summary_df(),\n",
        "                        player_col = [\"headshot_html\"],\n",
        "                        player_name_col = [\"full_name\"],\n",
        "                        analysis_cols_dict = {\"percentRoutesWithAddedPostSnapSeparation\" : \"good\", \"count\" : \"good\"},\n",
        "                        rank_col_dict = {\"postSnapSeparationAdded\" : \"good\"})\n",
        "\n",
        "defender_summary_gt = cleanup_gt_formatting(defender_summary_gt)"
      ],
      "metadata": {
        "id": "O2XUwrgvVIg1"
      },
      "execution_count": 94,
      "outputs": []
    },
    {
      "cell_type": "code",
      "source": [
        "player_summary_gt"
      ],
      "metadata": {
        "colab": {
          "base_uri": "https://localhost:8080/",
          "height": 572
        },
        "id": "6XukFyg-cCEn",
        "outputId": "8e7d9c58-f82f-4279-fc84-e5e31606a3e9"
      },
      "execution_count": 95,
      "outputs": [
        {
          "output_type": "execute_result",
          "data": {
            "text/plain": [
              "GT(_tbl_data=                                           full_name  \\\n",
              "0  <link href=\"https://fonts.googleapis.com/css?f...   \n",
              "1  <link href=\"https://fonts.googleapis.com/css?f...   \n",
              "2  <link href=\"https://fonts.googleapis.com/css?f...   \n",
              "3  <link href=\"https://fonts.googleapis.com/css?f...   \n",
              "4  <link href=\"https://fonts.googleapis.com/css?f...   \n",
              "5  <link href=\"https://fonts.googleapis.com/css?f...   \n",
              "6  <link href=\"https://fonts.googleapis.com/css?f...   \n",
              "7  <link href=\"https://fonts.googleapis.com/css?f...   \n",
              "8  <link href=\"https://fonts.googleapis.com/css?f...   \n",
              "9  <link href=\"https://fonts.googleapis.com/css?f...   \n",
              "\n",
              "                                       headshot_html  \\\n",
              "0  <img src=\"https://static.www.nfl.com/image/pri...   \n",
              "1  <img src=\"https://static.www.nfl.com/image/pri...   \n",
              "2  <img src=\"https://static.www.nfl.com/image/pri...   \n",
              "3  <img src=\"https://static.www.nfl.com/image/pri...   \n",
              "4  <img src=\"https://static.www.nfl.com/image/pri...   \n",
              "5  <img src=\"https://static.www.nfl.com/image/pri...   \n",
              "6  <img src=\"https://static.www.nfl.com/image/pri...   \n",
              "7  <img src=\"https://static.www.nfl.com/image/pri...   \n",
              "8  <img src=\"https://static.www.nfl.com/image/pri...   \n",
              "9  <img src=\"https://static.www.nfl.com/image/pri...   \n",
              "\n",
              "   percentRoutesWithAddedPostSnapSeparation  count  postSnapSeparationAdded  \n",
              "0                                  0.707317     41                 1.133844  \n",
              "1                                  0.620000    100                 1.073868  \n",
              "2                                  0.659091     88                 1.068169  \n",
              "3                                  0.576923     26                 0.989109  \n",
              "4                                  0.558824     34                 0.986692  \n",
              "5                                  0.444444     27                 0.964052  \n",
              "6                                  0.527273     55                 0.956499  \n",
              "7                                  0.617647     34                 0.950038  \n",
              "8                                  0.413793     29                 0.949712  \n",
              "9                                  0.509434     53                 0.790195  , _body=<great_tables._gt_data.Body object at 0x7d9cbf3e7490>, _boxhead=Boxhead([ColInfo(var='full_name', type=<ColInfoTypeEnum.default: 1>, column_label='Player', column_align='left', column_width=None), ColInfo(var='headshot_html', type=<ColInfoTypeEnum.default: 1>, column_label='', column_align='left', column_width=None), ColInfo(var='percentRoutesWithAddedPostSnapSeparation', type=<ColInfoTypeEnum.default: 1>, column_label='Percent of Routes with Separation Added', column_align='right', column_width=None), ColInfo(var='count', type=<ColInfoTypeEnum.default: 1>, column_label='Number of Plays', column_align='right', column_width=None), ColInfo(var='postSnapSeparationAdded', type=<ColInfoTypeEnum.default: 1>, column_label='Post Snap Separation Added', column_align='right', column_width=None)]), _stub=<great_tables._gt_data.Stub object at 0x7d9cbfb783d0>, _spanners=Spanners([]), _heading=Heading(title=None, subtitle=None, preheader=None), _stubhead=None, _source_notes=[], _footnotes=[], _styles=[StyleInfo(locname=LocBody(columns='percentRoutesWithAddedPostSnapSeparation', rows=[0]), grpname=None, colname='percentRoutesWithAddedPostSnapSeparation', rownum=0, colnum=None, styles=[CellStyleText(color='#000000', font=None, size=None, align=None, v_align=None, style=None, weight=None, stretch=None, decorate=None, transform=None, whitespace=None), CellStyleFill(color='#7fbf7b')]), StyleInfo(locname=LocBody(columns='percentRoutesWithAddedPostSnapSeparation', rows=[1]), grpname=None, colname='percentRoutesWithAddedPostSnapSeparation', rownum=1, colnum=None, styles=[CellStyleText(color='#000000', font=None, size=None, align=None, v_align=None, style=None, weight=None, stretch=None, decorate=None, transform=None, whitespace=None), CellStyleFill(color='#dff1da')]), StyleInfo(locname=LocBody(columns='percentRoutesWithAddedPostSnapSeparation', rows=[2]), grpname=None, colname='percentRoutesWithAddedPostSnapSeparation', rownum=2, colnum=None, styles=[CellStyleText(color='#000000', font=None, size=None, align=None, v_align=None, style=None, weight=None, stretch=None, decorate=None, transform=None, whitespace=None), CellStyleFill(color='#badfb5')]), StyleInfo(locname=LocBody(columns='percentRoutesWithAddedPostSnapSeparation', rows=[3]), grpname=None, colname='percentRoutesWithAddedPostSnapSeparation', rownum=3, colnum=None, styles=[CellStyleText(color='#000000', font=None, size=None, align=None, v_align=None, style=None, weight=None, stretch=None, decorate=None, transform=None, whitespace=None), CellStyleFill(color='#f0f5ef')]), StyleInfo(locname=LocBody(columns='percentRoutesWithAddedPostSnapSeparation', rows=[4]), grpname=None, colname='percentRoutesWithAddedPostSnapSeparation', rownum=4, colnum=None, styles=[CellStyleText(color='#000000', font=None, size=None, align=None, v_align=None, style=None, weight=None, stretch=None, decorate=None, transform=None, whitespace=None), CellStyleFill(color='#f7f6f7')]), StyleInfo(locname=LocBody(columns='percentRoutesWithAddedPostSnapSeparation', rows=[5]), grpname=None, colname='percentRoutesWithAddedPostSnapSeparation', rownum=5, colnum=None, styles=[CellStyleText(color='#000000', font=None, size=None, align=None, v_align=None, style=None, weight=None, stretch=None, decorate=None, transform=None, whitespace=None), CellStyleFill(color='#c6abd2')]), StyleInfo(locname=LocBody(columns='percentRoutesWithAddedPostSnapSeparation', rows=[6]), grpname=None, colname='percentRoutesWithAddedPostSnapSeparation', rownum=6, colnum=None, styles=[CellStyleText(color='#000000', font=None, size=None, align=None, v_align=None, style=None, weight=None, stretch=None, decorate=None, transform=None, whitespace=None), CellStyleFill(color='#f0e7f0')]), StyleInfo(locname=LocBody(columns='percentRoutesWithAddedPostSnapSeparation', rows=[7]), grpname=None, colname='percentRoutesWithAddedPostSnapSeparation', rownum=7, colnum=None, styles=[CellStyleText(color='#000000', font=None, size=None, align=None, v_align=None, style=None, weight=None, stretch=None, decorate=None, transform=None, whitespace=None), CellStyleFill(color='#e0f2db')]), StyleInfo(locname=LocBody(columns='percentRoutesWithAddedPostSnapSeparation', rows=[8]), grpname=None, colname='percentRoutesWithAddedPostSnapSeparation', rownum=8, colnum=None, styles=[CellStyleText(color='#000000', font=None, size=None, align=None, v_align=None, style=None, weight=None, stretch=None, decorate=None, transform=None, whitespace=None), CellStyleFill(color='#af8dc3')]), StyleInfo(locname=LocBody(columns='percentRoutesWithAddedPostSnapSeparation', rows=[9]), grpname=None, colname='percentRoutesWithAddedPostSnapSeparation', rownum=9, colnum=None, styles=[CellStyleText(color='#000000', font=None, size=None, align=None, v_align=None, style=None, weight=None, stretch=None, decorate=None, transform=None, whitespace=None), CellStyleFill(color='#ecdfed')]), StyleInfo(locname=LocBody(columns='count', rows=[0]), grpname=None, colname='count', rownum=0, colnum=None, styles=[CellStyleText(color='#000000', font=None, size=None, align=None, v_align=None, style=None, weight=None, stretch=None, decorate=None, transform=None, whitespace=None), CellStyleFill(color='#dcc7e1')]), StyleInfo(locname=LocBody(columns='count', rows=[1]), grpname=None, colname='count', rownum=1, colnum=None, styles=[CellStyleText(color='#000000', font=None, size=None, align=None, v_align=None, style=None, weight=None, stretch=None, decorate=None, transform=None, whitespace=None), CellStyleFill(color='#7fbf7b')]), StyleInfo(locname=LocBody(columns='count', rows=[2]), grpname=None, colname='count', rownum=2, colnum=None, styles=[CellStyleText(color='#000000', font=None, size=None, align=None, v_align=None, style=None, weight=None, stretch=None, decorate=None, transform=None, whitespace=None), CellStyleFill(color='#b9dfb4')]), StyleInfo(locname=LocBody(columns='count', rows=[3]), grpname=None, colname='count', rownum=3, colnum=None, styles=[CellStyleText(color='#000000', font=None, size=None, align=None, v_align=None, style=None, weight=None, stretch=None, decorate=None, transform=None, whitespace=None), CellStyleFill(color='#af8dc3')]), StyleInfo(locname=LocBody(columns='count', rows=[4]), grpname=None, colname='count', rownum=4, colnum=None, styles=[CellStyleText(color='#000000', font=None, size=None, align=None, v_align=None, style=None, weight=None, stretch=None, decorate=None, transform=None, whitespace=None), CellStyleFill(color='#c7acd3')]), StyleInfo(locname=LocBody(columns='count', rows=[5]), grpname=None, colname='count', rownum=5, colnum=None, styles=[CellStyleText(color='#000000', font=None, size=None, align=None, v_align=None, style=None, weight=None, stretch=None, decorate=None, transform=None, whitespace=None), CellStyleFill(color='#b291c5')]), StyleInfo(locname=LocBody(columns='count', rows=[6]), grpname=None, colname='count', rownum=6, colnum=None, styles=[CellStyleText(color='#000000', font=None, size=None, align=None, v_align=None, style=None, weight=None, stretch=None, decorate=None, transform=None, whitespace=None), CellStyleFill(color='#f0e8f1')]), StyleInfo(locname=LocBody(columns='count', rows=[7]), grpname=None, colname='count', rownum=7, colnum=None, styles=[CellStyleText(color='#000000', font=None, size=None, align=None, v_align=None, style=None, weight=None, stretch=None, decorate=None, transform=None, whitespace=None), CellStyleFill(color='#c7acd3')]), StyleInfo(locname=LocBody(columns='count', rows=[8]), grpname=None, colname='count', rownum=8, colnum=None, styles=[CellStyleText(color='#000000', font=None, size=None, align=None, v_align=None, style=None, weight=None, stretch=None, decorate=None, transform=None, whitespace=None), CellStyleFill(color='#b899c9')]), StyleInfo(locname=LocBody(columns='count', rows=[9]), grpname=None, colname='count', rownum=9, colnum=None, styles=[CellStyleText(color='#000000', font=None, size=None, align=None, v_align=None, style=None, weight=None, stretch=None, decorate=None, transform=None, whitespace=None), CellStyleFill(color='#eee4ef')]), StyleInfo(locname=LocBody(columns='postSnapSeparationAdded', rows=[0]), grpname=None, colname='postSnapSeparationAdded', rownum=0, colnum=None, styles=[CellStyleText(color='#FFFFFF', font=None, size=None, align=None, v_align=None, style=None, weight=None, stretch=None, decorate=None, transform=None, whitespace=None), CellStyleFill(color='#1b7837')]), StyleInfo(locname=LocBody(columns='postSnapSeparationAdded', rows=[1]), grpname=None, colname='postSnapSeparationAdded', rownum=1, colnum=None, styles=[CellStyleText(color='#000000', font=None, size=None, align=None, v_align=None, style=None, weight=None, stretch=None, decorate=None, transform=None, whitespace=None), CellStyleFill(color='#83c17f')]), StyleInfo(locname=LocBody(columns='postSnapSeparationAdded', rows=[2]), grpname=None, colname='postSnapSeparationAdded', rownum=2, colnum=None, styles=[CellStyleText(color='#000000', font=None, size=None, align=None, v_align=None, style=None, weight=None, stretch=None, decorate=None, transform=None, whitespace=None), CellStyleFill(color='#8cc688')]), StyleInfo(locname=LocBody(columns='postSnapSeparationAdded', rows=[3]), grpname=None, colname='postSnapSeparationAdded', rownum=3, colnum=None, styles=[CellStyleText(color='#000000', font=None, size=None, align=None, v_align=None, style=None, weight=None, stretch=None, decorate=None, transform=None, whitespace=None), CellStyleFill(color='#e9f4e6')]), StyleInfo(locname=LocBody(columns='postSnapSeparationAdded', rows=[4]), grpname=None, colname='postSnapSeparationAdded', rownum=4, colnum=None, styles=[CellStyleText(color='#000000', font=None, size=None, align=None, v_align=None, style=None, weight=None, stretch=None, decorate=None, transform=None, whitespace=None), CellStyleFill(color='#eaf4e7')]), StyleInfo(locname=LocBody(columns='postSnapSeparationAdded', rows=[5]), grpname=None, colname='postSnapSeparationAdded', rownum=5, colnum=None, styles=[CellStyleText(color='#000000', font=None, size=None, align=None, v_align=None, style=None, weight=None, stretch=None, decorate=None, transform=None, whitespace=None), CellStyleFill(color='#f6f7f6')]), StyleInfo(locname=LocBody(columns='postSnapSeparationAdded', rows=[6]), grpname=None, colname='postSnapSeparationAdded', rownum=6, colnum=None, styles=[CellStyleText(color='#000000', font=None, size=None, align=None, v_align=None, style=None, weight=None, stretch=None, decorate=None, transform=None, whitespace=None), CellStyleFill(color='#f5f4f6')]), StyleInfo(locname=LocBody(columns='postSnapSeparationAdded', rows=[7]), grpname=None, colname='postSnapSeparationAdded', rownum=7, colnum=None, styles=[CellStyleText(color='#000000', font=None, size=None, align=None, v_align=None, style=None, weight=None, stretch=None, decorate=None, transform=None, whitespace=None), CellStyleFill(color='#f4f0f4')]), StyleInfo(locname=LocBody(columns='postSnapSeparationAdded', rows=[8]), grpname=None, colname='postSnapSeparationAdded', rownum=8, colnum=None, styles=[CellStyleText(color='#000000', font=None, size=None, align=None, v_align=None, style=None, weight=None, stretch=None, decorate=None, transform=None, whitespace=None), CellStyleFill(color='#f4eff4')]), StyleInfo(locname=LocBody(columns='postSnapSeparationAdded', rows=[9]), grpname=None, colname='postSnapSeparationAdded', rownum=9, colnum=None, styles=[CellStyleText(color='#FFFFFF', font=None, size=None, align=None, v_align=None, style=None, weight=None, stretch=None, decorate=None, transform=None, whitespace=None), CellStyleFill(color='#762a83')])], _locale=<great_tables._gt_data.Locale object at 0x7d9cc02029b0>, _formats=[<great_tables._gt_data.FormatInfo object at 0x7d9cbf5a5cf0>, <great_tables._gt_data.FormatInfo object at 0x7d9cbfb78bb0>], _substitutions=[], _options=Options(table_id=OptionsInfo(scss=False, category='table', type='value', value=None), table_caption=OptionsInfo(scss=False, category='table', type='value', value=None), table_width=OptionsInfo(scss=True, category='table', type='px', value='auto'), table_layout=OptionsInfo(scss=True, category='table', type='value', value='fixed'), table_margin_left=OptionsInfo(scss=True, category='table', type='px', value='auto'), table_margin_right=OptionsInfo(scss=True, category='table', type='px', value='auto'), table_background_color=OptionsInfo(scss=True, category='table', type='value', value='#FFFFFF'), table_additional_css=OptionsInfo(scss=False, category='table', type='values', value=[]), table_font_names=OptionsInfo(scss=False, category='table', type='values', value=['-apple-system', 'BlinkMacSystemFont', 'Segoe UI', 'Roboto', 'Oxygen', 'Ubuntu', 'Cantarell', 'Helvetica Neue', 'Fira Sans', 'Droid Sans', 'Arial', 'sans-serif']), table_font_size=OptionsInfo(scss=True, category='table', type='px', value=16), table_font_weight=OptionsInfo(scss=True, category='table', type='value', value='normal'), table_font_style=OptionsInfo(scss=True, category='table', type='value', value='normal'), table_font_color=OptionsInfo(scss=True, category='table', type='value', value='#333333'), table_font_color_light=OptionsInfo(scss=True, category='table', type='value', value='#FFFFFF'), table_border_top_include=OptionsInfo(scss=False, category='table', type='boolean', value=True), table_border_top_style=OptionsInfo(scss=True, category='table', type='value', value='solid'), table_border_top_width=OptionsInfo(scss=True, category='table', type='px', value='3px'), table_border_top_color=OptionsInfo(scss=True, category='table', type='value', value='#A8A8A8'), table_border_right_style=OptionsInfo(scss=True, category='table', type='value', value='none'), table_border_right_width=OptionsInfo(scss=True, category='table', type='px', value='2px'), table_border_right_color=OptionsInfo(scss=True, category='table', type='value', value='#D3D3D3'), table_border_bottom_include=OptionsInfo(scss=False, category='table', type='boolean', value=True), table_border_bottom_style=OptionsInfo(scss=True, category='table', type='value', value='solid'), table_border_bottom_width=OptionsInfo(scss=True, category='table', type='px', value='2px'), table_border_bottom_color=OptionsInfo(scss=True, category='table', type='value', value='#A8A8A8'), table_border_left_style=OptionsInfo(scss=True, category='table', type='value', value='none'), table_border_left_width=OptionsInfo(scss=True, category='table', type='px', value='2px'), table_border_left_color=OptionsInfo(scss=True, category='table', type='value', value='#D3D3D3'), heading_background_color=OptionsInfo(scss=True, category='heading', type='value', value=None), heading_align=OptionsInfo(scss=True, category='heading', type='value', value='left'), heading_title_font_size=OptionsInfo(scss=True, category='heading', type='px', value='125%'), heading_title_font_weight=OptionsInfo(scss=True, category='heading', type='value', value='initial'), heading_subtitle_font_size=OptionsInfo(scss=True, category='heading', type='px', value='85%'), heading_subtitle_font_weight=OptionsInfo(scss=True, category='heading', type='value', value='initial'), heading_padding=OptionsInfo(scss=True, category='heading', type='px', value='4px'), heading_padding_horizontal=OptionsInfo(scss=True, category='heading', type='px', value='5px'), heading_border_bottom_style=OptionsInfo(scss=True, category='heading', type='value', value='solid'), heading_border_bottom_width=OptionsInfo(scss=True, category='heading', type='px', value='2px'), heading_border_bottom_color=OptionsInfo(scss=True, category='heading', type='value', value='#D3D3D3'), heading_border_lr_style=OptionsInfo(scss=True, category='heading', type='value', value='none'), heading_border_lr_width=OptionsInfo(scss=True, category='heading', type='px', value='1px'), heading_border_lr_color=OptionsInfo(scss=True, category='heading', type='value', value='#D3D3D3'), column_labels_background_color=OptionsInfo(scss=True, category='column_labels', type='value', value='white'), column_labels_font_size=OptionsInfo(scss=True, category='column_labels', type='px', value='100%'), column_labels_font_weight=OptionsInfo(scss=True, category='column_labels', type='value', value='normal'), column_labels_text_transform=OptionsInfo(scss=True, category='column_labels', type='value', value='inherit'), column_labels_padding=OptionsInfo(scss=True, category='column_labels', type='px', value='5px'), column_labels_padding_horizontal=OptionsInfo(scss=True, category='column_labels', type='px', value='5px'), column_labels_vlines_style=OptionsInfo(scss=True, category='table_body', type='value', value='none'), column_labels_vlines_width=OptionsInfo(scss=True, category='table_body', type='px', value='1px'), column_labels_vlines_color=OptionsInfo(scss=True, category='table_body', type='value', value='#D3D3D3'), column_labels_border_top_style=OptionsInfo(scss=True, category='column_labels', type='value', value='solid'), column_labels_border_top_width=OptionsInfo(scss=True, category='column_labels', type='px', value='2px'), column_labels_border_top_color=OptionsInfo(scss=True, category='column_labels', type='value', value='#D3D3D3'), column_labels_border_bottom_style=OptionsInfo(scss=True, category='column_labels', type='value', value='solid'), column_labels_border_bottom_width=OptionsInfo(scss=True, category='column_labels', type='px', value='2px'), column_labels_border_bottom_color=OptionsInfo(scss=True, category='column_labels', type='value', value='black'), column_labels_border_lr_style=OptionsInfo(scss=True, category='column_labels', type='value', value='none'), column_labels_border_lr_width=OptionsInfo(scss=True, category='column_labels', type='px', value='1px'), column_labels_border_lr_color=OptionsInfo(scss=True, category='column_labels', type='value', value='#D3D3D3'), column_labels_hidden=OptionsInfo(scss=False, category='column_labels', type='boolean', value=False), row_group_background_color=OptionsInfo(scss=True, category='row_group', type='value', value=None), row_group_font_size=OptionsInfo(scss=True, category='row_group', type='px', value='100%'), row_group_font_weight=OptionsInfo(scss=True, category='row_group', type='value', value='initial'), row_group_text_transform=OptionsInfo(scss=True, category='row_group', type='value', value='inherit'), row_group_padding=OptionsInfo(scss=True, category='row_group', type='px', value='8px'), row_group_padding_horizontal=OptionsInfo(scss=True, category='row_group', type='px', value='5px'), row_group_border_top_style=OptionsInfo(scss=True, category='row_group', type='value', value='solid'), row_group_border_top_width=OptionsInfo(scss=True, category='row_group', type='px', value='2px'), row_group_border_top_color=OptionsInfo(scss=True, category='row_group', type='value', value='black'), row_group_border_right_style=OptionsInfo(scss=True, category='row_group', type='value', value='none'), row_group_border_right_width=OptionsInfo(scss=True, category='row_group', type='px', value='1px'), row_group_border_right_color=OptionsInfo(scss=True, category='row_group', type='value', value='#D3D3D3'), row_group_border_bottom_style=OptionsInfo(scss=True, category='row_group', type='value', value='solid'), row_group_border_bottom_width=OptionsInfo(scss=True, category='row_group', type='px', value='1px'), row_group_border_bottom_color=OptionsInfo(scss=True, category='row_group', type='value', value='white'), row_group_border_left_style=OptionsInfo(scss=True, category='row_group', type='value', value='none'), row_group_border_left_width=OptionsInfo(scss=True, category='row_group', type='px', value='1px'), row_group_border_left_color=OptionsInfo(scss=True, category='row_group', type='value', value='#D3D3D3'), row_group_as_column=OptionsInfo(scss=False, category='row_group', type='boolean', value=False), table_body_hlines_style=OptionsInfo(scss=True, category='table_body', type='value', value='solid'), table_body_hlines_width=OptionsInfo(scss=True, category='table_body', type='px', value='1px'), table_body_hlines_color=OptionsInfo(scss=True, category='table_body', type='value', value='#D3D3D3'), table_body_vlines_style=OptionsInfo(scss=True, category='table_body', type='value', value='none'), table_body_vlines_width=OptionsInfo(scss=True, category='table_body', type='px', value='1px'), table_body_vlines_color=OptionsInfo(scss=True, category='table_body', type='value', value='#D3D3D3'), table_body_border_top_style=OptionsInfo(scss=True, category='table_body', type='value', value='solid'), table_body_border_top_width=OptionsInfo(scss=True, category='table_body', type='px', value='2px'), table_body_border_top_color=OptionsInfo(scss=True, category='table_body', type='value', value='#D3D3D3'), table_body_border_bottom_style=OptionsInfo(scss=True, category='table_body', type='value', value='solid'), table_body_border_bottom_width=OptionsInfo(scss=True, category='table_body', type='px', value='2px'), table_body_border_bottom_color=OptionsInfo(scss=True, category='table_body', type='value', value='#D3D3D3'), data_row_padding=OptionsInfo(scss=True, category='data_row', type='px', value='3px'), data_row_padding_horizontal=OptionsInfo(scss=True, category='data_row', type='px', value='5px'), stub_background_color=OptionsInfo(scss=True, category='stub', type='value', value=None), stub_font_size=OptionsInfo(scss=True, category='stub', type='px', value='100%'), stub_font_weight=OptionsInfo(scss=True, category='stub', type='value', value='initial'), stub_text_transform=OptionsInfo(scss=True, category='stub', type='value', value='inherit'), stub_border_style=OptionsInfo(scss=True, category='stub', type='value', value='solid'), stub_border_width=OptionsInfo(scss=True, category='stub', type='px', value='px'), stub_border_color=OptionsInfo(scss=True, category='stub', type='value', value='white'), stub_row_group_background_color=OptionsInfo(scss=True, category='stub', type='value', value=None), stub_row_group_font_size=OptionsInfo(scss=True, category='stub', type='px', value='100%'), stub_row_group_font_weight=OptionsInfo(scss=True, category='stub', type='value', value='initial'), stub_row_group_text_transform=OptionsInfo(scss=True, category='stub', type='value', value='inherit'), stub_row_group_border_style=OptionsInfo(scss=True, category='stub', type='value', value='solid'), stub_row_group_border_width=OptionsInfo(scss=True, category='stub', type='px', value='2px'), stub_row_group_border_color=OptionsInfo(scss=True, category='stub', type='value', value='#D3D3D3'), source_notes_padding=OptionsInfo(scss=True, category='source_notes', type='px', value='4px'), source_notes_padding_horizontal=OptionsInfo(scss=True, category='source_notes', type='px', value='5px'), source_notes_background_color=OptionsInfo(scss=True, category='source_notes', type='value', value=None), source_notes_font_size=OptionsInfo(scss=True, category='source_notes', type='px', value=12), source_notes_border_bottom_style=OptionsInfo(scss=True, category='source_notes', type='value', value='none'), source_notes_border_bottom_width=OptionsInfo(scss=True, category='source_notes', type='px', value='2px'), source_notes_border_bottom_color=OptionsInfo(scss=True, category='source_notes', type='value', value='#D3D3D3'), source_notes_border_lr_style=OptionsInfo(scss=True, category='source_notes', type='value', value='none'), source_notes_border_lr_width=OptionsInfo(scss=True, category='source_notes', type='px', value='2px'), source_notes_border_lr_color=OptionsInfo(scss=True, category='source_notes', type='value', value='#D3D3D3'), source_notes_multiline=OptionsInfo(scss=False, category='source_notes', type='boolean', value=True), source_notes_sep=OptionsInfo(scss=False, category='source_notes', type='value', value=' '), row_striping_background_color=OptionsInfo(scss=True, category='row', type='value', value='rgba(128,128,128,0.05)'), row_striping_include_stub=OptionsInfo(scss=False, category='row', type='boolean', value=False), row_striping_include_table_body=OptionsInfo(scss=False, category='row', type='boolean', value=False), container_width=OptionsInfo(scss=False, category='container', type='px', value='auto'), container_height=OptionsInfo(scss=False, category='container', type='px', value='auto'), container_padding_x=OptionsInfo(scss=False, category='container', type='px', value='0px'), container_padding_y=OptionsInfo(scss=False, category='container', type='px', value='10px'), container_overflow_x=OptionsInfo(scss=False, category='container', type='overflow', value='auto'), container_overflow_y=OptionsInfo(scss=False, category='container', type='overflow', value='auto'), quarto_disable_processing=OptionsInfo(scss=False, category='quarto', type='logical', value=False), quarto_use_bootstrap=OptionsInfo(scss=False, category='quarto', type='logical', value=False)), _has_built=False)"
            ],
            "text/html": [
              "<div id=\"vpvsvnnnlm\" style=\"padding-left:0px;padding-right:0px;padding-top:10px;padding-bottom:10px;overflow-x:auto;overflow-y:auto;width:auto;height:auto;\">\n",
              "<style>\n",
              "#vpvsvnnnlm table {\n",
              "          font-family: -apple-system, BlinkMacSystemFont, 'Segoe UI', Roboto, Oxygen, Ubuntu, Cantarell, 'Helvetica Neue', 'Fira Sans', 'Droid Sans', Arial, sans-serif;\n",
              "          -webkit-font-smoothing: antialiased;\n",
              "          -moz-osx-font-smoothing: grayscale;\n",
              "        }\n",
              "\n",
              "#vpvsvnnnlm thead, tbody, tfoot, tr, td, th { border-style: none; }\n",
              " tr { background-color: transparent; }\n",
              "#vpvsvnnnlm p { margin: 0; padding: 0; }\n",
              " #vpvsvnnnlm .gt_table { display: table; border-collapse: collapse; line-height: normal; margin-left: auto; margin-right: auto; color: #333333; font-size: 16; font-weight: normal; font-style: normal; background-color: #FFFFFF; width: auto; border-top-style: solid; border-top-width: 3px; border-top-color: #A8A8A8; border-right-style: none; border-right-width: 2px; border-right-color: #D3D3D3; border-bottom-style: solid; border-bottom-width: 2px; border-bottom-color: #A8A8A8; border-left-style: none; border-left-width: 2px; border-left-color: #D3D3D3; }\n",
              " #vpvsvnnnlm .gt_caption { padding-top: 4px; padding-bottom: 4px; }\n",
              " #vpvsvnnnlm .gt_title { color: #333333; font-size: 125%; font-weight: initial; padding-top: 4px; padding-bottom: 4px; padding-left: 5px; padding-right: 5px; border-bottom-color: #FFFFFF; border-bottom-width: 0; }\n",
              " #vpvsvnnnlm .gt_subtitle { color: #333333; font-size: 85%; font-weight: initial; padding-top: 3px; padding-bottom: 5px; padding-left: 5px; padding-right: 5px; border-top-color: #FFFFFF; border-top-width: 0; }\n",
              " #vpvsvnnnlm .gt_heading { background-color: #FFFFFF; text-align: left; border-bottom-color: #FFFFFF; border-left-style: none; border-left-width: 1px; border-left-color: #D3D3D3; border-right-style: none; border-right-width: 1px; border-right-color: #D3D3D3; }\n",
              " #vpvsvnnnlm .gt_bottom_border { border-bottom-style: solid; border-bottom-width: 2px; border-bottom-color: #D3D3D3; }\n",
              " #vpvsvnnnlm .gt_col_headings { border-top-style: solid; border-top-width: 2px; border-top-color: #D3D3D3; border-bottom-style: solid; border-bottom-width: 2px; border-bottom-color: black; border-left-style: none; border-left-width: 1px; border-left-color: #D3D3D3; border-right-style: none; border-right-width: 1px; border-right-color: #D3D3D3; }\n",
              " #vpvsvnnnlm .gt_col_heading { color: #333333; background-color: white; font-size: 100%; font-weight: normal; text-transform: inherit; border-left-style: none; border-left-width: 1px; border-left-color: #D3D3D3; border-right-style: none; border-right-width: 1px; border-right-color: #D3D3D3; vertical-align: bottom; padding-top: 5px; padding-bottom: 5px; padding-left: 5px; padding-right: 5px; overflow-x: hidden; }\n",
              " #vpvsvnnnlm .gt_column_spanner_outer { color: #333333; background-color: white; font-size: 100%; font-weight: normal; text-transform: inherit; padding-top: 0; padding-bottom: 0; padding-left: 4px; padding-right: 4px; }\n",
              " #vpvsvnnnlm .gt_column_spanner_outer:first-child { padding-left: 0; }\n",
              " #vpvsvnnnlm .gt_column_spanner_outer:last-child { padding-right: 0; }\n",
              " #vpvsvnnnlm .gt_column_spanner { border-bottom-style: solid; border-bottom-width: 2px; border-bottom-color: black; vertical-align: bottom; padding-top: 5px; padding-bottom: 5px; overflow-x: hidden; display: inline-block; width: 100%; }\n",
              " #vpvsvnnnlm .gt_spanner_row { border-bottom-style: hidden; }\n",
              " #vpvsvnnnlm .gt_group_heading { padding-top: 8px; padding-bottom: 8px; padding-left: 5px; padding-right: 5px; color: #333333; background-color: #FFFFFF; font-size: 100%; font-weight: initial; text-transform: inherit; border-top-style: solid; border-top-width: 2px; border-top-color: black; border-bottom-style: solid; border-bottom-width: 1px; border-bottom-color: white; border-left-style: none; border-left-width: 1px; border-left-color: #D3D3D3; border-right-style: none; border-right-width: 1px; border-right-color: #D3D3D3; vertical-align: middle; text-align: left; }\n",
              " #vpvsvnnnlm .gt_empty_group_heading { padding: 0.5px; color: #333333; background-color: #FFFFFF; font-size: 100%; font-weight: initial; border-top-style: solid; border-top-width: 2px; border-top-color: black; border-bottom-style: solid; border-bottom-width: 1px; border-bottom-color: white; vertical-align: middle; }\n",
              " #vpvsvnnnlm .gt_from_md> :first-child { margin-top: 0; }\n",
              " #vpvsvnnnlm .gt_from_md> :last-child { margin-bottom: 0; }\n",
              " #vpvsvnnnlm .gt_row { padding-top: 3px; padding-bottom: 3px; padding-left: 5px; padding-right: 5px; margin: 10px; border-top-style: solid; border-top-width: 1px; border-top-color: #D3D3D3; border-left-style: none; border-left-width: 1px; border-left-color: #D3D3D3; border-right-style: none; border-right-width: 1px; border-right-color: #D3D3D3; vertical-align: middle; overflow-x: hidden; }\n",
              " #vpvsvnnnlm .gt_stub { color: #333333; background-color: #FFFFFF; font-size: 100%; font-weight: initial; text-transform: inherit; border-right-style: solid; border-right-width: px; border-right-color: white; padding-left: 5px; padding-right: 5px; }\n",
              " #vpvsvnnnlm .gt_stub_row_group { color: #333333; background-color: #FFFFFF; font-size: 100%; font-weight: initial; text-transform: inherit; border-right-style: solid; border-right-width: 2px; border-right-color: #D3D3D3; padding-left: 5px; padding-right: 5px; vertical-align: top; }\n",
              " #vpvsvnnnlm .gt_row_group_first td { border-top-width: 2px; }\n",
              " #vpvsvnnnlm .gt_row_group_first th { border-top-width: 2px; }\n",
              " #vpvsvnnnlm .gt_striped { background-color: rgba(128,128,128,0.05); }\n",
              " #vpvsvnnnlm .gt_table_body { border-top-style: solid; border-top-width: 2px; border-top-color: #D3D3D3; border-bottom-style: solid; border-bottom-width: 2px; border-bottom-color: #D3D3D3; }\n",
              " #vpvsvnnnlm .gt_sourcenotes { color: #333333; background-color: #FFFFFF; border-bottom-style: none; border-bottom-width: 2px; border-bottom-color: #D3D3D3; border-left-style: none; border-left-width: 2px; border-left-color: #D3D3D3; border-right-style: none; border-right-width: 2px; border-right-color: #D3D3D3; }\n",
              " #vpvsvnnnlm .gt_sourcenote { font-size: 12; padding-top: 4px; padding-bottom: 4px; padding-left: 5px; padding-right: 5px; text-align: left; }\n",
              " #vpvsvnnnlm .gt_left { text-align: left; }\n",
              " #vpvsvnnnlm .gt_center { text-align: center; }\n",
              " #vpvsvnnnlm .gt_right { text-align: right; font-variant-numeric: tabular-nums; }\n",
              " #vpvsvnnnlm .gt_font_normal { font-weight: normal; }\n",
              " #vpvsvnnnlm .gt_font_bold { font-weight: bold; }\n",
              " #vpvsvnnnlm .gt_font_italic { font-style: italic; }\n",
              " #vpvsvnnnlm .gt_super { font-size: 65%; }\n",
              " #vpvsvnnnlm .gt_footnote_marks { font-size: 75%; vertical-align: 0.4em; position: initial; }\n",
              " #vpvsvnnnlm .gt_asterisk { font-size: 100%; vertical-align: 0; }\n",
              " \n",
              "</style>\n",
              "<table class=\"gt_table\" data-quarto-disable-processing=\"false\" data-quarto-bootstrap=\"false\">\n",
              "<thead>\n",
              "\n",
              "<tr class=\"gt_col_headings\">\n",
              "  <th class=\"gt_col_heading gt_columns_bottom_border gt_left\" rowspan=\"1\" colspan=\"1\" scope=\"col\" id=\"Player\">Player</th>\n",
              "  <th class=\"gt_col_heading gt_columns_bottom_border gt_left\" rowspan=\"1\" colspan=\"1\" scope=\"col\" id=\"\"></th>\n",
              "  <th class=\"gt_col_heading gt_columns_bottom_border gt_right\" rowspan=\"1\" colspan=\"1\" scope=\"col\" id=\"Percent of Routes with Separation Added\">Percent of Routes with Separation Added</th>\n",
              "  <th class=\"gt_col_heading gt_columns_bottom_border gt_right\" rowspan=\"1\" colspan=\"1\" scope=\"col\" id=\"Number of Plays\">Number of Plays</th>\n",
              "  <th class=\"gt_col_heading gt_columns_bottom_border gt_right\" rowspan=\"1\" colspan=\"1\" scope=\"col\" id=\"Post Snap Separation Added\">Post Snap Separation Added</th>\n",
              "</tr>\n",
              "</thead>\n",
              "<tbody class=\"gt_table_body\">\n",
              "  <tr>\n",
              "    <td class=\"gt_row gt_left\"><link href=\"https://fonts.googleapis.com/css?family=Chivo\" rel=\"stylesheet\"><p style='font-family: Chivo; bottom: 0; font-size: 14px; weight: 200'> Kenneth Gainwell</td>\n",
              "    <td class=\"gt_row gt_left\"><img src=\"https://static.www.nfl.com/image/private/f_auto,q_auto/league/jufq7kyl2tynrtfsvxu1\" height = 40;/>\n",
              "</td>\n",
              "    <td style=\"color: #000000; background-color: #7fbf7b;\" class=\"gt_row gt_right\">0.71</td>\n",
              "    <td style=\"color: #000000; background-color: #dcc7e1;\" class=\"gt_row gt_right\">41</td>\n",
              "    <td style=\"color: #FFFFFF; background-color: #1b7837;\" class=\"gt_row gt_right\">1.13</td>\n",
              "  </tr>\n",
              "  <tr>\n",
              "    <td class=\"gt_row gt_left\"><link href=\"https://fonts.googleapis.com/css?family=Chivo\" rel=\"stylesheet\"><p style='font-family: Chivo; bottom: 0; font-size: 14px; weight: 200'> Devin Singletary</td>\n",
              "    <td class=\"gt_row gt_left\"><img src=\"https://static.www.nfl.com/image/private/f_auto,q_auto/league/d9ifpvw57zivczxlpxdh\" height = 40;/>\n",
              "</td>\n",
              "    <td style=\"color: #000000; background-color: #dff1da;\" class=\"gt_row gt_right\">0.62</td>\n",
              "    <td style=\"color: #000000; background-color: #7fbf7b;\" class=\"gt_row gt_right\">100</td>\n",
              "    <td style=\"color: #000000; background-color: #83c17f;\" class=\"gt_row gt_right\">1.07</td>\n",
              "  </tr>\n",
              "  <tr>\n",
              "    <td class=\"gt_row gt_left\"><link href=\"https://fonts.googleapis.com/css?family=Chivo\" rel=\"stylesheet\"><p style='font-family: Chivo; bottom: 0; font-size: 14px; weight: 200'> Darrell Henderson</td>\n",
              "    <td class=\"gt_row gt_left\"><img src=\"https://static.www.nfl.com/image/private/f_auto,q_auto/league/trvk8n0wjne7edxbajgw\" height = 40;/>\n",
              "</td>\n",
              "    <td style=\"color: #000000; background-color: #badfb5;\" class=\"gt_row gt_right\">0.66</td>\n",
              "    <td style=\"color: #000000; background-color: #b9dfb4;\" class=\"gt_row gt_right\">88</td>\n",
              "    <td style=\"color: #000000; background-color: #8cc688;\" class=\"gt_row gt_right\">1.07</td>\n",
              "  </tr>\n",
              "  <tr>\n",
              "    <td class=\"gt_row gt_left\"><link href=\"https://fonts.googleapis.com/css?family=Chivo\" rel=\"stylesheet\"><p style='font-family: Chivo; bottom: 0; font-size: 14px; weight: 200'> Cordarrelle Patterson</td>\n",
              "    <td class=\"gt_row gt_left\"><img src=\"https://static.www.nfl.com/image/private/f_auto,q_auto/league/ncyzuofecpl1v63vznp6\" height = 40;/>\n",
              "</td>\n",
              "    <td style=\"color: #000000; background-color: #f0f5ef;\" class=\"gt_row gt_right\">0.58</td>\n",
              "    <td style=\"color: #000000; background-color: #af8dc3;\" class=\"gt_row gt_right\">26</td>\n",
              "    <td style=\"color: #000000; background-color: #e9f4e6;\" class=\"gt_row gt_right\">0.99</td>\n",
              "  </tr>\n",
              "  <tr>\n",
              "    <td class=\"gt_row gt_left\"><link href=\"https://fonts.googleapis.com/css?family=Chivo\" rel=\"stylesheet\"><p style='font-family: Chivo; bottom: 0; font-size: 14px; weight: 200'> Connor Heyward</td>\n",
              "    <td class=\"gt_row gt_left\"><img src=\"https://static.www.nfl.com/image/private/f_auto,q_auto/league/zulggzj8lfpvz1vozqto\" height = 40;/>\n",
              "</td>\n",
              "    <td style=\"color: #000000; background-color: #f7f6f7;\" class=\"gt_row gt_right\">0.56</td>\n",
              "    <td style=\"color: #000000; background-color: #c7acd3;\" class=\"gt_row gt_right\">34</td>\n",
              "    <td style=\"color: #000000; background-color: #eaf4e7;\" class=\"gt_row gt_right\">0.99</td>\n",
              "  </tr>\n",
              "  <tr>\n",
              "    <td class=\"gt_row gt_left\"><link href=\"https://fonts.googleapis.com/css?family=Chivo\" rel=\"stylesheet\"><p style='font-family: Chivo; bottom: 0; font-size: 14px; weight: 200'> DeeJay Dallas</td>\n",
              "    <td class=\"gt_row gt_left\"><img src=\"https://static.www.nfl.com/image/private/f_auto,q_auto/league/sucmoxhzh003g8uwwol5\" height = 40;/>\n",
              "</td>\n",
              "    <td style=\"color: #000000; background-color: #c6abd2;\" class=\"gt_row gt_right\">0.44</td>\n",
              "    <td style=\"color: #000000; background-color: #b291c5;\" class=\"gt_row gt_right\">27</td>\n",
              "    <td style=\"color: #000000; background-color: #f6f7f6;\" class=\"gt_row gt_right\">0.96</td>\n",
              "  </tr>\n",
              "  <tr>\n",
              "    <td class=\"gt_row gt_left\"><link href=\"https://fonts.googleapis.com/css?family=Chivo\" rel=\"stylesheet\"><p style='font-family: Chivo; bottom: 0; font-size: 14px; weight: 200'> Parker Hesse</td>\n",
              "    <td class=\"gt_row gt_left\"><img src=\"https://static.www.nfl.com/image/private/f_auto,q_auto/league/hg0zmjun7lawoofz7hr5\" height = 40;/>\n",
              "</td>\n",
              "    <td style=\"color: #000000; background-color: #f0e7f0;\" class=\"gt_row gt_right\">0.53</td>\n",
              "    <td style=\"color: #000000; background-color: #f0e8f1;\" class=\"gt_row gt_right\">55</td>\n",
              "    <td style=\"color: #000000; background-color: #f5f4f6;\" class=\"gt_row gt_right\">0.96</td>\n",
              "  </tr>\n",
              "  <tr>\n",
              "    <td class=\"gt_row gt_left\"><link href=\"https://fonts.googleapis.com/css?family=Chivo\" rel=\"stylesheet\"><p style='font-family: Chivo; bottom: 0; font-size: 14px; weight: 200'> Giovanni Ricci</td>\n",
              "    <td class=\"gt_row gt_left\"><img src=\"https://static.www.nfl.com/image/private/f_auto,q_auto/league/qsctpaxzee0wraf4tnms\" height = 40;/>\n",
              "</td>\n",
              "    <td style=\"color: #000000; background-color: #e0f2db;\" class=\"gt_row gt_right\">0.62</td>\n",
              "    <td style=\"color: #000000; background-color: #c7acd3;\" class=\"gt_row gt_right\">34</td>\n",
              "    <td style=\"color: #000000; background-color: #f4f0f4;\" class=\"gt_row gt_right\">0.95</td>\n",
              "  </tr>\n",
              "  <tr>\n",
              "    <td class=\"gt_row gt_left\"><link href=\"https://fonts.googleapis.com/css?family=Chivo\" rel=\"stylesheet\"><p style='font-family: Chivo; bottom: 0; font-size: 14px; weight: 200'> Brandon Powell</td>\n",
              "    <td class=\"gt_row gt_left\"><img src=\"https://static.www.nfl.com/image/private/f_auto,q_auto/league/fkckjg4yqybqndyub6lu\" height = 40;/>\n",
              "</td>\n",
              "    <td style=\"color: #000000; background-color: #af8dc3;\" class=\"gt_row gt_right\">0.41</td>\n",
              "    <td style=\"color: #000000; background-color: #b899c9;\" class=\"gt_row gt_right\">29</td>\n",
              "    <td style=\"color: #000000; background-color: #f4eff4;\" class=\"gt_row gt_right\">0.95</td>\n",
              "  </tr>\n",
              "  <tr>\n",
              "    <td class=\"gt_row gt_left\"><link href=\"https://fonts.googleapis.com/css?family=Chivo\" rel=\"stylesheet\"><p style='font-family: Chivo; bottom: 0; font-size: 14px; weight: 200'> Jaylen Warren</td>\n",
              "    <td class=\"gt_row gt_left\"><img src=\"https://static.www.nfl.com/image/private/f_auto,q_auto/league/q6zstqy99al3sghrufey\" height = 40;/>\n",
              "</td>\n",
              "    <td style=\"color: #000000; background-color: #ecdfed;\" class=\"gt_row gt_right\">0.51</td>\n",
              "    <td style=\"color: #000000; background-color: #eee4ef;\" class=\"gt_row gt_right\">53</td>\n",
              "    <td style=\"color: #FFFFFF; background-color: #762a83;\" class=\"gt_row gt_right\">0.79</td>\n",
              "  </tr>\n",
              "</tbody>\n",
              "\n",
              "\n",
              "</table>\n",
              "\n",
              "</div>\n",
              "        "
            ]
          },
          "metadata": {},
          "execution_count": 95
        }
      ]
    },
    {
      "cell_type": "code",
      "source": [
        "defender_summary_gt"
      ],
      "metadata": {
        "colab": {
          "base_uri": "https://localhost:8080/",
          "height": 572
        },
        "id": "CJJKq-v1eDFx",
        "outputId": "b0047f14-424c-4ded-ca1a-d4a4be299b3e"
      },
      "execution_count": 96,
      "outputs": [
        {
          "output_type": "execute_result",
          "data": {
            "text/plain": [
              "GT(_tbl_data=                                           full_name  \\\n",
              "0  <link href=\"https://fonts.googleapis.com/css?f...   \n",
              "1  <link href=\"https://fonts.googleapis.com/css?f...   \n",
              "2  <link href=\"https://fonts.googleapis.com/css?f...   \n",
              "3  <link href=\"https://fonts.googleapis.com/css?f...   \n",
              "4  <link href=\"https://fonts.googleapis.com/css?f...   \n",
              "5  <link href=\"https://fonts.googleapis.com/css?f...   \n",
              "6  <link href=\"https://fonts.googleapis.com/css?f...   \n",
              "7  <link href=\"https://fonts.googleapis.com/css?f...   \n",
              "8  <link href=\"https://fonts.googleapis.com/css?f...   \n",
              "9  <link href=\"https://fonts.googleapis.com/css?f...   \n",
              "\n",
              "                                       headshot_html  \\\n",
              "0  <img src=\"https://static.www.nfl.com/image/pri...   \n",
              "1  <img src=\"https://static.www.nfl.com/image/pri...   \n",
              "2  <img src=\"https://static.www.nfl.com/image/pri...   \n",
              "3  <img src=\"https://static.www.nfl.com/image/pri...   \n",
              "4  <img src=\"https://static.www.nfl.com/image/pri...   \n",
              "5  <img src=\"https://static.www.nfl.com/image/pri...   \n",
              "6  <img src=\"https://static.www.nfl.com/image/pri...   \n",
              "7  <img src=\"https://static.www.nfl.com/image/pri...   \n",
              "8  <img src=\"https://static.www.nfl.com/image/pri...   \n",
              "9  <img src=\"https://static.www.nfl.com/image/pri...   \n",
              "\n",
              "   percentRoutesWithAddedPostSnapSeparation  count  postSnapSeparationAdded  \n",
              "0                                  0.282609     46                -1.151888  \n",
              "1                                  0.247788    113                -1.109628  \n",
              "2                                  0.320755    106                -0.937784  \n",
              "3                                  0.302752    109                -0.875619  \n",
              "4                                  0.322581     93                -0.865784  \n",
              "5                                  0.303030     66                -0.751439  \n",
              "6                                  0.301887    106                -0.750671  \n",
              "7                                  0.306452    124                -0.740918  \n",
              "8                                  0.244444     45                -0.727569  \n",
              "9                                  0.318182    110                -0.690743  , _body=<great_tables._gt_data.Body object at 0x7d9cbf6c7520>, _boxhead=Boxhead([ColInfo(var='full_name', type=<ColInfoTypeEnum.default: 1>, column_label='Player', column_align='left', column_width=None), ColInfo(var='headshot_html', type=<ColInfoTypeEnum.default: 1>, column_label='', column_align='left', column_width=None), ColInfo(var='percentRoutesWithAddedPostSnapSeparation', type=<ColInfoTypeEnum.default: 1>, column_label='Percent of Routes with Separation Added', column_align='right', column_width=None), ColInfo(var='count', type=<ColInfoTypeEnum.default: 1>, column_label='Number of Plays', column_align='right', column_width=None), ColInfo(var='postSnapSeparationAdded', type=<ColInfoTypeEnum.default: 1>, column_label='Post Snap Separation Added', column_align='right', column_width=None)]), _stub=<great_tables._gt_data.Stub object at 0x7d9cbfb786a0>, _spanners=Spanners([]), _heading=Heading(title=None, subtitle=None, preheader=None), _stubhead=None, _source_notes=[], _footnotes=[], _styles=[StyleInfo(locname=LocBody(columns='percentRoutesWithAddedPostSnapSeparation', rows=[0]), grpname=None, colname='percentRoutesWithAddedPostSnapSeparation', rownum=0, colnum=None, styles=[CellStyleText(color='#000000', font=None, size=None, align=None, v_align=None, style=None, weight=None, stretch=None, decorate=None, transform=None, whitespace=None), CellStyleFill(color='#f6f5f6')]), StyleInfo(locname=LocBody(columns='percentRoutesWithAddedPostSnapSeparation', rows=[1]), grpname=None, colname='percentRoutesWithAddedPostSnapSeparation', rownum=1, colnum=None, styles=[CellStyleText(color='#000000', font=None, size=None, align=None, v_align=None, style=None, weight=None, stretch=None, decorate=None, transform=None, whitespace=None), CellStyleFill(color='#b999c9')]), StyleInfo(locname=LocBody(columns='percentRoutesWithAddedPostSnapSeparation', rows=[2]), grpname=None, colname='percentRoutesWithAddedPostSnapSeparation', rownum=2, colnum=None, styles=[CellStyleText(color='#000000', font=None, size=None, align=None, v_align=None, style=None, weight=None, stretch=None, decorate=None, transform=None, whitespace=None), CellStyleFill(color='#87c483')]), StyleInfo(locname=LocBody(columns='percentRoutesWithAddedPostSnapSeparation', rows=[3]), grpname=None, colname='percentRoutesWithAddedPostSnapSeparation', rownum=3, colnum=None, styles=[CellStyleText(color='#000000', font=None, size=None, align=None, v_align=None, style=None, weight=None, stretch=None, decorate=None, transform=None, whitespace=None), CellStyleFill(color='#d9f0d4')]), StyleInfo(locname=LocBody(columns='percentRoutesWithAddedPostSnapSeparation', rows=[4]), grpname=None, colname='percentRoutesWithAddedPostSnapSeparation', rownum=4, colnum=None, styles=[CellStyleText(color='#000000', font=None, size=None, align=None, v_align=None, style=None, weight=None, stretch=None, decorate=None, transform=None, whitespace=None), CellStyleFill(color='#7fbf7b')]), StyleInfo(locname=LocBody(columns='percentRoutesWithAddedPostSnapSeparation', rows=[5]), grpname=None, colname='percentRoutesWithAddedPostSnapSeparation', rownum=5, colnum=None, styles=[CellStyleText(color='#000000', font=None, size=None, align=None, v_align=None, style=None, weight=None, stretch=None, decorate=None, transform=None, whitespace=None), CellStyleFill(color='#d9f0d3')]), StyleInfo(locname=LocBody(columns='percentRoutesWithAddedPostSnapSeparation', rows=[6]), grpname=None, colname='percentRoutesWithAddedPostSnapSeparation', rownum=6, colnum=None, styles=[CellStyleText(color='#000000', font=None, size=None, align=None, v_align=None, style=None, weight=None, stretch=None, decorate=None, transform=None, whitespace=None), CellStyleFill(color='#dbf0d5')]), StyleInfo(locname=LocBody(columns='percentRoutesWithAddedPostSnapSeparation', rows=[7]), grpname=None, colname='percentRoutesWithAddedPostSnapSeparation', rownum=7, colnum=None, styles=[CellStyleText(color='#000000', font=None, size=None, align=None, v_align=None, style=None, weight=None, stretch=None, decorate=None, transform=None, whitespace=None), CellStyleFill(color='#c9e7c4')]), StyleInfo(locname=LocBody(columns='percentRoutesWithAddedPostSnapSeparation', rows=[8]), grpname=None, colname='percentRoutesWithAddedPostSnapSeparation', rownum=8, colnum=None, styles=[CellStyleText(color='#000000', font=None, size=None, align=None, v_align=None, style=None, weight=None, stretch=None, decorate=None, transform=None, whitespace=None), CellStyleFill(color='#af8dc3')]), StyleInfo(locname=LocBody(columns='percentRoutesWithAddedPostSnapSeparation', rows=[9]), grpname=None, colname='percentRoutesWithAddedPostSnapSeparation', rownum=9, colnum=None, styles=[CellStyleText(color='#000000', font=None, size=None, align=None, v_align=None, style=None, weight=None, stretch=None, decorate=None, transform=None, whitespace=None), CellStyleFill(color='#93ca8f')]), StyleInfo(locname=LocBody(columns='count', rows=[0]), grpname=None, colname='count', rownum=0, colnum=None, styles=[CellStyleText(color='#000000', font=None, size=None, align=None, v_align=None, style=None, weight=None, stretch=None, decorate=None, transform=None, whitespace=None), CellStyleFill(color='#b291c5')]), StyleInfo(locname=LocBody(columns='count', rows=[1]), grpname=None, colname='count', rownum=1, colnum=None, styles=[CellStyleText(color='#000000', font=None, size=None, align=None, v_align=None, style=None, weight=None, stretch=None, decorate=None, transform=None, whitespace=None), CellStyleFill(color='#b1daac')]), StyleInfo(locname=LocBody(columns='count', rows=[2]), grpname=None, colname='count', rownum=2, colnum=None, styles=[CellStyleText(color='#000000', font=None, size=None, align=None, v_align=None, style=None, weight=None, stretch=None, decorate=None, transform=None, whitespace=None), CellStyleFill(color='#d1eccb')]), StyleInfo(locname=LocBody(columns='count', rows=[3]), grpname=None, colname='count', rownum=3, colnum=None, styles=[CellStyleText(color='#000000', font=None, size=None, align=None, v_align=None, style=None, weight=None, stretch=None, decorate=None, transform=None, whitespace=None), CellStyleFill(color='#c3e4be')]), StyleInfo(locname=LocBody(columns='count', rows=[4]), grpname=None, colname='count', rownum=4, colnum=None, styles=[CellStyleText(color='#000000', font=None, size=None, align=None, v_align=None, style=None, weight=None, stretch=None, decorate=None, transform=None, whitespace=None), CellStyleFill(color='#eaf4e8')]), StyleInfo(locname=LocBody(columns='count', rows=[5]), grpname=None, colname='count', rownum=5, colnum=None, styles=[CellStyleText(color='#000000', font=None, size=None, align=None, v_align=None, style=None, weight=None, stretch=None, decorate=None, transform=None, whitespace=None), CellStyleFill(color='#e8d6e9')]), StyleInfo(locname=LocBody(columns='count', rows=[6]), grpname=None, colname='count', rownum=6, colnum=None, styles=[CellStyleText(color='#000000', font=None, size=None, align=None, v_align=None, style=None, weight=None, stretch=None, decorate=None, transform=None, whitespace=None), CellStyleFill(color='#d1eccb')]), StyleInfo(locname=LocBody(columns='count', rows=[7]), grpname=None, colname='count', rownum=7, colnum=None, styles=[CellStyleText(color='#000000', font=None, size=None, align=None, v_align=None, style=None, weight=None, stretch=None, decorate=None, transform=None, whitespace=None), CellStyleFill(color='#7fbf7b')]), StyleInfo(locname=LocBody(columns='count', rows=[8]), grpname=None, colname='count', rownum=8, colnum=None, styles=[CellStyleText(color='#000000', font=None, size=None, align=None, v_align=None, style=None, weight=None, stretch=None, decorate=None, transform=None, whitespace=None), CellStyleFill(color='#af8dc3')]), StyleInfo(locname=LocBody(columns='count', rows=[9]), grpname=None, colname='count', rownum=9, colnum=None, styles=[CellStyleText(color='#000000', font=None, size=None, align=None, v_align=None, style=None, weight=None, stretch=None, decorate=None, transform=None, whitespace=None), CellStyleFill(color='#bfe2b9')]), StyleInfo(locname=LocBody(columns='postSnapSeparationAdded', rows=[0]), grpname=None, colname='postSnapSeparationAdded', rownum=0, colnum=None, styles=[CellStyleText(color='#FFFFFF', font=None, size=None, align=None, v_align=None, style=None, weight=None, stretch=None, decorate=None, transform=None, whitespace=None), CellStyleFill(color='#762a83')]), StyleInfo(locname=LocBody(columns='postSnapSeparationAdded', rows=[1]), grpname=None, colname='postSnapSeparationAdded', rownum=1, colnum=None, styles=[CellStyleText(color='#FFFFFF', font=None, size=None, align=None, v_align=None, style=None, weight=None, stretch=None, decorate=None, transform=None, whitespace=None), CellStyleFill(color='#9560a6')]), StyleInfo(locname=LocBody(columns='postSnapSeparationAdded', rows=[2]), grpname=None, colname='postSnapSeparationAdded', rownum=2, colnum=None, styles=[CellStyleText(color='#000000', font=None, size=None, align=None, v_align=None, style=None, weight=None, stretch=None, decorate=None, transform=None, whitespace=None), CellStyleFill(color='#f4f0f4')]), StyleInfo(locname=LocBody(columns='postSnapSeparationAdded', rows=[3]), grpname=None, colname='postSnapSeparationAdded', rownum=3, colnum=None, styles=[CellStyleText(color='#000000', font=None, size=None, align=None, v_align=None, style=None, weight=None, stretch=None, decorate=None, transform=None, whitespace=None), CellStyleFill(color='#e5f3e2')]), StyleInfo(locname=LocBody(columns='postSnapSeparationAdded', rows=[4]), grpname=None, colname='postSnapSeparationAdded', rownum=4, colnum=None, styles=[CellStyleText(color='#000000', font=None, size=None, align=None, v_align=None, style=None, weight=None, stretch=None, decorate=None, transform=None, whitespace=None), CellStyleFill(color='#e1f2dd')]), StyleInfo(locname=LocBody(columns='postSnapSeparationAdded', rows=[5]), grpname=None, colname='postSnapSeparationAdded', rownum=5, colnum=None, styles=[CellStyleText(color='#000000', font=None, size=None, align=None, v_align=None, style=None, weight=None, stretch=None, decorate=None, transform=None, whitespace=None), CellStyleFill(color='#6ab06d')]), StyleInfo(locname=LocBody(columns='postSnapSeparationAdded', rows=[6]), grpname=None, colname='postSnapSeparationAdded', rownum=6, colnum=None, styles=[CellStyleText(color='#000000', font=None, size=None, align=None, v_align=None, style=None, weight=None, stretch=None, decorate=None, transform=None, whitespace=None), CellStyleFill(color='#69af6c')]), StyleInfo(locname=LocBody(columns='postSnapSeparationAdded', rows=[7]), grpname=None, colname='postSnapSeparationAdded', rownum=7, colnum=None, styles=[CellStyleText(color='#000000', font=None, size=None, align=None, v_align=None, style=None, weight=None, stretch=None, decorate=None, transform=None, whitespace=None), CellStyleFill(color='#5ca663')]), StyleInfo(locname=LocBody(columns='postSnapSeparationAdded', rows=[8]), grpname=None, colname='postSnapSeparationAdded', rownum=8, colnum=None, styles=[CellStyleText(color='#000000', font=None, size=None, align=None, v_align=None, style=None, weight=None, stretch=None, decorate=None, transform=None, whitespace=None), CellStyleFill(color='#4b9a58')]), StyleInfo(locname=LocBody(columns='postSnapSeparationAdded', rows=[9]), grpname=None, colname='postSnapSeparationAdded', rownum=9, colnum=None, styles=[CellStyleText(color='#FFFFFF', font=None, size=None, align=None, v_align=None, style=None, weight=None, stretch=None, decorate=None, transform=None, whitespace=None), CellStyleFill(color='#1b7837')])], _locale=<great_tables._gt_data.Locale object at 0x7d9cbf35c100>, _formats=[<great_tables._gt_data.FormatInfo object at 0x7d9cbfb7a1d0>, <great_tables._gt_data.FormatInfo object at 0x7d9cbf3e7bb0>], _substitutions=[], _options=Options(table_id=OptionsInfo(scss=False, category='table', type='value', value=None), table_caption=OptionsInfo(scss=False, category='table', type='value', value=None), table_width=OptionsInfo(scss=True, category='table', type='px', value='auto'), table_layout=OptionsInfo(scss=True, category='table', type='value', value='fixed'), table_margin_left=OptionsInfo(scss=True, category='table', type='px', value='auto'), table_margin_right=OptionsInfo(scss=True, category='table', type='px', value='auto'), table_background_color=OptionsInfo(scss=True, category='table', type='value', value='#FFFFFF'), table_additional_css=OptionsInfo(scss=False, category='table', type='values', value=[]), table_font_names=OptionsInfo(scss=False, category='table', type='values', value=['-apple-system', 'BlinkMacSystemFont', 'Segoe UI', 'Roboto', 'Oxygen', 'Ubuntu', 'Cantarell', 'Helvetica Neue', 'Fira Sans', 'Droid Sans', 'Arial', 'sans-serif']), table_font_size=OptionsInfo(scss=True, category='table', type='px', value=16), table_font_weight=OptionsInfo(scss=True, category='table', type='value', value='normal'), table_font_style=OptionsInfo(scss=True, category='table', type='value', value='normal'), table_font_color=OptionsInfo(scss=True, category='table', type='value', value='#333333'), table_font_color_light=OptionsInfo(scss=True, category='table', type='value', value='#FFFFFF'), table_border_top_include=OptionsInfo(scss=False, category='table', type='boolean', value=True), table_border_top_style=OptionsInfo(scss=True, category='table', type='value', value='solid'), table_border_top_width=OptionsInfo(scss=True, category='table', type='px', value='3px'), table_border_top_color=OptionsInfo(scss=True, category='table', type='value', value='#A8A8A8'), table_border_right_style=OptionsInfo(scss=True, category='table', type='value', value='none'), table_border_right_width=OptionsInfo(scss=True, category='table', type='px', value='2px'), table_border_right_color=OptionsInfo(scss=True, category='table', type='value', value='#D3D3D3'), table_border_bottom_include=OptionsInfo(scss=False, category='table', type='boolean', value=True), table_border_bottom_style=OptionsInfo(scss=True, category='table', type='value', value='solid'), table_border_bottom_width=OptionsInfo(scss=True, category='table', type='px', value='2px'), table_border_bottom_color=OptionsInfo(scss=True, category='table', type='value', value='#A8A8A8'), table_border_left_style=OptionsInfo(scss=True, category='table', type='value', value='none'), table_border_left_width=OptionsInfo(scss=True, category='table', type='px', value='2px'), table_border_left_color=OptionsInfo(scss=True, category='table', type='value', value='#D3D3D3'), heading_background_color=OptionsInfo(scss=True, category='heading', type='value', value=None), heading_align=OptionsInfo(scss=True, category='heading', type='value', value='left'), heading_title_font_size=OptionsInfo(scss=True, category='heading', type='px', value='125%'), heading_title_font_weight=OptionsInfo(scss=True, category='heading', type='value', value='initial'), heading_subtitle_font_size=OptionsInfo(scss=True, category='heading', type='px', value='85%'), heading_subtitle_font_weight=OptionsInfo(scss=True, category='heading', type='value', value='initial'), heading_padding=OptionsInfo(scss=True, category='heading', type='px', value='4px'), heading_padding_horizontal=OptionsInfo(scss=True, category='heading', type='px', value='5px'), heading_border_bottom_style=OptionsInfo(scss=True, category='heading', type='value', value='solid'), heading_border_bottom_width=OptionsInfo(scss=True, category='heading', type='px', value='2px'), heading_border_bottom_color=OptionsInfo(scss=True, category='heading', type='value', value='#D3D3D3'), heading_border_lr_style=OptionsInfo(scss=True, category='heading', type='value', value='none'), heading_border_lr_width=OptionsInfo(scss=True, category='heading', type='px', value='1px'), heading_border_lr_color=OptionsInfo(scss=True, category='heading', type='value', value='#D3D3D3'), column_labels_background_color=OptionsInfo(scss=True, category='column_labels', type='value', value='white'), column_labels_font_size=OptionsInfo(scss=True, category='column_labels', type='px', value='100%'), column_labels_font_weight=OptionsInfo(scss=True, category='column_labels', type='value', value='normal'), column_labels_text_transform=OptionsInfo(scss=True, category='column_labels', type='value', value='inherit'), column_labels_padding=OptionsInfo(scss=True, category='column_labels', type='px', value='5px'), column_labels_padding_horizontal=OptionsInfo(scss=True, category='column_labels', type='px', value='5px'), column_labels_vlines_style=OptionsInfo(scss=True, category='table_body', type='value', value='none'), column_labels_vlines_width=OptionsInfo(scss=True, category='table_body', type='px', value='1px'), column_labels_vlines_color=OptionsInfo(scss=True, category='table_body', type='value', value='#D3D3D3'), column_labels_border_top_style=OptionsInfo(scss=True, category='column_labels', type='value', value='solid'), column_labels_border_top_width=OptionsInfo(scss=True, category='column_labels', type='px', value='2px'), column_labels_border_top_color=OptionsInfo(scss=True, category='column_labels', type='value', value='#D3D3D3'), column_labels_border_bottom_style=OptionsInfo(scss=True, category='column_labels', type='value', value='solid'), column_labels_border_bottom_width=OptionsInfo(scss=True, category='column_labels', type='px', value='2px'), column_labels_border_bottom_color=OptionsInfo(scss=True, category='column_labels', type='value', value='black'), column_labels_border_lr_style=OptionsInfo(scss=True, category='column_labels', type='value', value='none'), column_labels_border_lr_width=OptionsInfo(scss=True, category='column_labels', type='px', value='1px'), column_labels_border_lr_color=OptionsInfo(scss=True, category='column_labels', type='value', value='#D3D3D3'), column_labels_hidden=OptionsInfo(scss=False, category='column_labels', type='boolean', value=False), row_group_background_color=OptionsInfo(scss=True, category='row_group', type='value', value=None), row_group_font_size=OptionsInfo(scss=True, category='row_group', type='px', value='100%'), row_group_font_weight=OptionsInfo(scss=True, category='row_group', type='value', value='initial'), row_group_text_transform=OptionsInfo(scss=True, category='row_group', type='value', value='inherit'), row_group_padding=OptionsInfo(scss=True, category='row_group', type='px', value='8px'), row_group_padding_horizontal=OptionsInfo(scss=True, category='row_group', type='px', value='5px'), row_group_border_top_style=OptionsInfo(scss=True, category='row_group', type='value', value='solid'), row_group_border_top_width=OptionsInfo(scss=True, category='row_group', type='px', value='2px'), row_group_border_top_color=OptionsInfo(scss=True, category='row_group', type='value', value='black'), row_group_border_right_style=OptionsInfo(scss=True, category='row_group', type='value', value='none'), row_group_border_right_width=OptionsInfo(scss=True, category='row_group', type='px', value='1px'), row_group_border_right_color=OptionsInfo(scss=True, category='row_group', type='value', value='#D3D3D3'), row_group_border_bottom_style=OptionsInfo(scss=True, category='row_group', type='value', value='solid'), row_group_border_bottom_width=OptionsInfo(scss=True, category='row_group', type='px', value='1px'), row_group_border_bottom_color=OptionsInfo(scss=True, category='row_group', type='value', value='white'), row_group_border_left_style=OptionsInfo(scss=True, category='row_group', type='value', value='none'), row_group_border_left_width=OptionsInfo(scss=True, category='row_group', type='px', value='1px'), row_group_border_left_color=OptionsInfo(scss=True, category='row_group', type='value', value='#D3D3D3'), row_group_as_column=OptionsInfo(scss=False, category='row_group', type='boolean', value=False), table_body_hlines_style=OptionsInfo(scss=True, category='table_body', type='value', value='solid'), table_body_hlines_width=OptionsInfo(scss=True, category='table_body', type='px', value='1px'), table_body_hlines_color=OptionsInfo(scss=True, category='table_body', type='value', value='#D3D3D3'), table_body_vlines_style=OptionsInfo(scss=True, category='table_body', type='value', value='none'), table_body_vlines_width=OptionsInfo(scss=True, category='table_body', type='px', value='1px'), table_body_vlines_color=OptionsInfo(scss=True, category='table_body', type='value', value='#D3D3D3'), table_body_border_top_style=OptionsInfo(scss=True, category='table_body', type='value', value='solid'), table_body_border_top_width=OptionsInfo(scss=True, category='table_body', type='px', value='2px'), table_body_border_top_color=OptionsInfo(scss=True, category='table_body', type='value', value='#D3D3D3'), table_body_border_bottom_style=OptionsInfo(scss=True, category='table_body', type='value', value='solid'), table_body_border_bottom_width=OptionsInfo(scss=True, category='table_body', type='px', value='2px'), table_body_border_bottom_color=OptionsInfo(scss=True, category='table_body', type='value', value='#D3D3D3'), data_row_padding=OptionsInfo(scss=True, category='data_row', type='px', value='3px'), data_row_padding_horizontal=OptionsInfo(scss=True, category='data_row', type='px', value='5px'), stub_background_color=OptionsInfo(scss=True, category='stub', type='value', value=None), stub_font_size=OptionsInfo(scss=True, category='stub', type='px', value='100%'), stub_font_weight=OptionsInfo(scss=True, category='stub', type='value', value='initial'), stub_text_transform=OptionsInfo(scss=True, category='stub', type='value', value='inherit'), stub_border_style=OptionsInfo(scss=True, category='stub', type='value', value='solid'), stub_border_width=OptionsInfo(scss=True, category='stub', type='px', value='px'), stub_border_color=OptionsInfo(scss=True, category='stub', type='value', value='white'), stub_row_group_background_color=OptionsInfo(scss=True, category='stub', type='value', value=None), stub_row_group_font_size=OptionsInfo(scss=True, category='stub', type='px', value='100%'), stub_row_group_font_weight=OptionsInfo(scss=True, category='stub', type='value', value='initial'), stub_row_group_text_transform=OptionsInfo(scss=True, category='stub', type='value', value='inherit'), stub_row_group_border_style=OptionsInfo(scss=True, category='stub', type='value', value='solid'), stub_row_group_border_width=OptionsInfo(scss=True, category='stub', type='px', value='2px'), stub_row_group_border_color=OptionsInfo(scss=True, category='stub', type='value', value='#D3D3D3'), source_notes_padding=OptionsInfo(scss=True, category='source_notes', type='px', value='4px'), source_notes_padding_horizontal=OptionsInfo(scss=True, category='source_notes', type='px', value='5px'), source_notes_background_color=OptionsInfo(scss=True, category='source_notes', type='value', value=None), source_notes_font_size=OptionsInfo(scss=True, category='source_notes', type='px', value=12), source_notes_border_bottom_style=OptionsInfo(scss=True, category='source_notes', type='value', value='none'), source_notes_border_bottom_width=OptionsInfo(scss=True, category='source_notes', type='px', value='2px'), source_notes_border_bottom_color=OptionsInfo(scss=True, category='source_notes', type='value', value='#D3D3D3'), source_notes_border_lr_style=OptionsInfo(scss=True, category='source_notes', type='value', value='none'), source_notes_border_lr_width=OptionsInfo(scss=True, category='source_notes', type='px', value='2px'), source_notes_border_lr_color=OptionsInfo(scss=True, category='source_notes', type='value', value='#D3D3D3'), source_notes_multiline=OptionsInfo(scss=False, category='source_notes', type='boolean', value=True), source_notes_sep=OptionsInfo(scss=False, category='source_notes', type='value', value=' '), row_striping_background_color=OptionsInfo(scss=True, category='row', type='value', value='rgba(128,128,128,0.05)'), row_striping_include_stub=OptionsInfo(scss=False, category='row', type='boolean', value=False), row_striping_include_table_body=OptionsInfo(scss=False, category='row', type='boolean', value=False), container_width=OptionsInfo(scss=False, category='container', type='px', value='auto'), container_height=OptionsInfo(scss=False, category='container', type='px', value='auto'), container_padding_x=OptionsInfo(scss=False, category='container', type='px', value='0px'), container_padding_y=OptionsInfo(scss=False, category='container', type='px', value='10px'), container_overflow_x=OptionsInfo(scss=False, category='container', type='overflow', value='auto'), container_overflow_y=OptionsInfo(scss=False, category='container', type='overflow', value='auto'), quarto_disable_processing=OptionsInfo(scss=False, category='quarto', type='logical', value=False), quarto_use_bootstrap=OptionsInfo(scss=False, category='quarto', type='logical', value=False)), _has_built=False)"
            ],
            "text/html": [
              "<div id=\"nurwzjmllw\" style=\"padding-left:0px;padding-right:0px;padding-top:10px;padding-bottom:10px;overflow-x:auto;overflow-y:auto;width:auto;height:auto;\">\n",
              "<style>\n",
              "#nurwzjmllw table {\n",
              "          font-family: -apple-system, BlinkMacSystemFont, 'Segoe UI', Roboto, Oxygen, Ubuntu, Cantarell, 'Helvetica Neue', 'Fira Sans', 'Droid Sans', Arial, sans-serif;\n",
              "          -webkit-font-smoothing: antialiased;\n",
              "          -moz-osx-font-smoothing: grayscale;\n",
              "        }\n",
              "\n",
              "#nurwzjmllw thead, tbody, tfoot, tr, td, th { border-style: none; }\n",
              " tr { background-color: transparent; }\n",
              "#nurwzjmllw p { margin: 0; padding: 0; }\n",
              " #nurwzjmllw .gt_table { display: table; border-collapse: collapse; line-height: normal; margin-left: auto; margin-right: auto; color: #333333; font-size: 16; font-weight: normal; font-style: normal; background-color: #FFFFFF; width: auto; border-top-style: solid; border-top-width: 3px; border-top-color: #A8A8A8; border-right-style: none; border-right-width: 2px; border-right-color: #D3D3D3; border-bottom-style: solid; border-bottom-width: 2px; border-bottom-color: #A8A8A8; border-left-style: none; border-left-width: 2px; border-left-color: #D3D3D3; }\n",
              " #nurwzjmllw .gt_caption { padding-top: 4px; padding-bottom: 4px; }\n",
              " #nurwzjmllw .gt_title { color: #333333; font-size: 125%; font-weight: initial; padding-top: 4px; padding-bottom: 4px; padding-left: 5px; padding-right: 5px; border-bottom-color: #FFFFFF; border-bottom-width: 0; }\n",
              " #nurwzjmllw .gt_subtitle { color: #333333; font-size: 85%; font-weight: initial; padding-top: 3px; padding-bottom: 5px; padding-left: 5px; padding-right: 5px; border-top-color: #FFFFFF; border-top-width: 0; }\n",
              " #nurwzjmllw .gt_heading { background-color: #FFFFFF; text-align: left; border-bottom-color: #FFFFFF; border-left-style: none; border-left-width: 1px; border-left-color: #D3D3D3; border-right-style: none; border-right-width: 1px; border-right-color: #D3D3D3; }\n",
              " #nurwzjmllw .gt_bottom_border { border-bottom-style: solid; border-bottom-width: 2px; border-bottom-color: #D3D3D3; }\n",
              " #nurwzjmllw .gt_col_headings { border-top-style: solid; border-top-width: 2px; border-top-color: #D3D3D3; border-bottom-style: solid; border-bottom-width: 2px; border-bottom-color: black; border-left-style: none; border-left-width: 1px; border-left-color: #D3D3D3; border-right-style: none; border-right-width: 1px; border-right-color: #D3D3D3; }\n",
              " #nurwzjmllw .gt_col_heading { color: #333333; background-color: white; font-size: 100%; font-weight: normal; text-transform: inherit; border-left-style: none; border-left-width: 1px; border-left-color: #D3D3D3; border-right-style: none; border-right-width: 1px; border-right-color: #D3D3D3; vertical-align: bottom; padding-top: 5px; padding-bottom: 5px; padding-left: 5px; padding-right: 5px; overflow-x: hidden; }\n",
              " #nurwzjmllw .gt_column_spanner_outer { color: #333333; background-color: white; font-size: 100%; font-weight: normal; text-transform: inherit; padding-top: 0; padding-bottom: 0; padding-left: 4px; padding-right: 4px; }\n",
              " #nurwzjmllw .gt_column_spanner_outer:first-child { padding-left: 0; }\n",
              " #nurwzjmllw .gt_column_spanner_outer:last-child { padding-right: 0; }\n",
              " #nurwzjmllw .gt_column_spanner { border-bottom-style: solid; border-bottom-width: 2px; border-bottom-color: black; vertical-align: bottom; padding-top: 5px; padding-bottom: 5px; overflow-x: hidden; display: inline-block; width: 100%; }\n",
              " #nurwzjmllw .gt_spanner_row { border-bottom-style: hidden; }\n",
              " #nurwzjmllw .gt_group_heading { padding-top: 8px; padding-bottom: 8px; padding-left: 5px; padding-right: 5px; color: #333333; background-color: #FFFFFF; font-size: 100%; font-weight: initial; text-transform: inherit; border-top-style: solid; border-top-width: 2px; border-top-color: black; border-bottom-style: solid; border-bottom-width: 1px; border-bottom-color: white; border-left-style: none; border-left-width: 1px; border-left-color: #D3D3D3; border-right-style: none; border-right-width: 1px; border-right-color: #D3D3D3; vertical-align: middle; text-align: left; }\n",
              " #nurwzjmllw .gt_empty_group_heading { padding: 0.5px; color: #333333; background-color: #FFFFFF; font-size: 100%; font-weight: initial; border-top-style: solid; border-top-width: 2px; border-top-color: black; border-bottom-style: solid; border-bottom-width: 1px; border-bottom-color: white; vertical-align: middle; }\n",
              " #nurwzjmllw .gt_from_md> :first-child { margin-top: 0; }\n",
              " #nurwzjmllw .gt_from_md> :last-child { margin-bottom: 0; }\n",
              " #nurwzjmllw .gt_row { padding-top: 3px; padding-bottom: 3px; padding-left: 5px; padding-right: 5px; margin: 10px; border-top-style: solid; border-top-width: 1px; border-top-color: #D3D3D3; border-left-style: none; border-left-width: 1px; border-left-color: #D3D3D3; border-right-style: none; border-right-width: 1px; border-right-color: #D3D3D3; vertical-align: middle; overflow-x: hidden; }\n",
              " #nurwzjmllw .gt_stub { color: #333333; background-color: #FFFFFF; font-size: 100%; font-weight: initial; text-transform: inherit; border-right-style: solid; border-right-width: px; border-right-color: white; padding-left: 5px; padding-right: 5px; }\n",
              " #nurwzjmllw .gt_stub_row_group { color: #333333; background-color: #FFFFFF; font-size: 100%; font-weight: initial; text-transform: inherit; border-right-style: solid; border-right-width: 2px; border-right-color: #D3D3D3; padding-left: 5px; padding-right: 5px; vertical-align: top; }\n",
              " #nurwzjmllw .gt_row_group_first td { border-top-width: 2px; }\n",
              " #nurwzjmllw .gt_row_group_first th { border-top-width: 2px; }\n",
              " #nurwzjmllw .gt_striped { background-color: rgba(128,128,128,0.05); }\n",
              " #nurwzjmllw .gt_table_body { border-top-style: solid; border-top-width: 2px; border-top-color: #D3D3D3; border-bottom-style: solid; border-bottom-width: 2px; border-bottom-color: #D3D3D3; }\n",
              " #nurwzjmllw .gt_sourcenotes { color: #333333; background-color: #FFFFFF; border-bottom-style: none; border-bottom-width: 2px; border-bottom-color: #D3D3D3; border-left-style: none; border-left-width: 2px; border-left-color: #D3D3D3; border-right-style: none; border-right-width: 2px; border-right-color: #D3D3D3; }\n",
              " #nurwzjmllw .gt_sourcenote { font-size: 12; padding-top: 4px; padding-bottom: 4px; padding-left: 5px; padding-right: 5px; text-align: left; }\n",
              " #nurwzjmllw .gt_left { text-align: left; }\n",
              " #nurwzjmllw .gt_center { text-align: center; }\n",
              " #nurwzjmllw .gt_right { text-align: right; font-variant-numeric: tabular-nums; }\n",
              " #nurwzjmllw .gt_font_normal { font-weight: normal; }\n",
              " #nurwzjmllw .gt_font_bold { font-weight: bold; }\n",
              " #nurwzjmllw .gt_font_italic { font-style: italic; }\n",
              " #nurwzjmllw .gt_super { font-size: 65%; }\n",
              " #nurwzjmllw .gt_footnote_marks { font-size: 75%; vertical-align: 0.4em; position: initial; }\n",
              " #nurwzjmllw .gt_asterisk { font-size: 100%; vertical-align: 0; }\n",
              " \n",
              "</style>\n",
              "<table class=\"gt_table\" data-quarto-disable-processing=\"false\" data-quarto-bootstrap=\"false\">\n",
              "<thead>\n",
              "\n",
              "<tr class=\"gt_col_headings\">\n",
              "  <th class=\"gt_col_heading gt_columns_bottom_border gt_left\" rowspan=\"1\" colspan=\"1\" scope=\"col\" id=\"Player\">Player</th>\n",
              "  <th class=\"gt_col_heading gt_columns_bottom_border gt_left\" rowspan=\"1\" colspan=\"1\" scope=\"col\" id=\"\"></th>\n",
              "  <th class=\"gt_col_heading gt_columns_bottom_border gt_right\" rowspan=\"1\" colspan=\"1\" scope=\"col\" id=\"Percent of Routes with Separation Added\">Percent of Routes with Separation Added</th>\n",
              "  <th class=\"gt_col_heading gt_columns_bottom_border gt_right\" rowspan=\"1\" colspan=\"1\" scope=\"col\" id=\"Number of Plays\">Number of Plays</th>\n",
              "  <th class=\"gt_col_heading gt_columns_bottom_border gt_right\" rowspan=\"1\" colspan=\"1\" scope=\"col\" id=\"Post Snap Separation Added\">Post Snap Separation Added</th>\n",
              "</tr>\n",
              "</thead>\n",
              "<tbody class=\"gt_table_body\">\n",
              "  <tr>\n",
              "    <td class=\"gt_row gt_left\"><link href=\"https://fonts.googleapis.com/css?family=Chivo\" rel=\"stylesheet\"><p style='font-family: Chivo; bottom: 0; font-size: 14px; weight: 200'> Andrew Adams</td>\n",
              "    <td class=\"gt_row gt_left\"><img src=\"https://static.www.nfl.com/image/private/f_auto,q_auto/league/kr4tbgue7yhbhdp9iecq\" height = 40;/>\n",
              "</td>\n",
              "    <td style=\"color: #000000; background-color: #f6f5f6;\" class=\"gt_row gt_right\">0.28</td>\n",
              "    <td style=\"color: #000000; background-color: #b291c5;\" class=\"gt_row gt_right\">46</td>\n",
              "    <td style=\"color: #FFFFFF; background-color: #762a83;\" class=\"gt_row gt_right\">−1.15</td>\n",
              "  </tr>\n",
              "  <tr>\n",
              "    <td class=\"gt_row gt_left\"><link href=\"https://fonts.googleapis.com/css?family=Chivo\" rel=\"stylesheet\"><p style='font-family: Chivo; bottom: 0; font-size: 14px; weight: 200'> Devin Bush</td>\n",
              "    <td class=\"gt_row gt_left\"><img src=\"https://static.www.nfl.com/image/private/f_auto,q_auto/league/pzw9h0nwr9uluegc3wjw\" height = 40;/>\n",
              "</td>\n",
              "    <td style=\"color: #000000; background-color: #b999c9;\" class=\"gt_row gt_right\">0.25</td>\n",
              "    <td style=\"color: #000000; background-color: #b1daac;\" class=\"gt_row gt_right\">113</td>\n",
              "    <td style=\"color: #FFFFFF; background-color: #9560a6;\" class=\"gt_row gt_right\">−1.11</td>\n",
              "  </tr>\n",
              "  <tr>\n",
              "    <td class=\"gt_row gt_left\"><link href=\"https://fonts.googleapis.com/css?family=Chivo\" rel=\"stylesheet\"><p style='font-family: Chivo; bottom: 0; font-size: 14px; weight: 200'> Ryan Neal</td>\n",
              "    <td class=\"gt_row gt_left\"><img src=\"https://static.www.nfl.com/image/private/f_auto,q_auto/league/olk7puzborsmsivpvf3r\" height = 40;/>\n",
              "</td>\n",
              "    <td style=\"color: #000000; background-color: #87c483;\" class=\"gt_row gt_right\">0.32</td>\n",
              "    <td style=\"color: #000000; background-color: #d1eccb;\" class=\"gt_row gt_right\">106</td>\n",
              "    <td style=\"color: #000000; background-color: #f4f0f4;\" class=\"gt_row gt_right\">−0.94</td>\n",
              "  </tr>\n",
              "  <tr>\n",
              "    <td class=\"gt_row gt_left\"><link href=\"https://fonts.googleapis.com/css?family=Chivo\" rel=\"stylesheet\"><p style='font-family: Chivo; bottom: 0; font-size: 14px; weight: 200'> Jamin Davis</td>\n",
              "    <td class=\"gt_row gt_left\"><img src=\"https://static.www.nfl.com/image/private/f_auto,q_auto/league/caxztwry2fh7f18mzapc\" height = 40;/>\n",
              "</td>\n",
              "    <td style=\"color: #000000; background-color: #d9f0d4;\" class=\"gt_row gt_right\">0.30</td>\n",
              "    <td style=\"color: #000000; background-color: #c3e4be;\" class=\"gt_row gt_right\">109</td>\n",
              "    <td style=\"color: #000000; background-color: #e5f3e2;\" class=\"gt_row gt_right\">−0.88</td>\n",
              "  </tr>\n",
              "  <tr>\n",
              "    <td class=\"gt_row gt_left\"><link href=\"https://fonts.googleapis.com/css?family=Chivo\" rel=\"stylesheet\"><p style='font-family: Chivo; bottom: 0; font-size: 14px; weight: 200'> Nasir Adderley</td>\n",
              "    <td class=\"gt_row gt_left\"><img src=\"https://static.www.nfl.com/image/private/f_auto,q_auto/league/dpvexbntnac14qw14k5d\" height = 40;/>\n",
              "</td>\n",
              "    <td style=\"color: #000000; background-color: #7fbf7b;\" class=\"gt_row gt_right\">0.32</td>\n",
              "    <td style=\"color: #000000; background-color: #eaf4e8;\" class=\"gt_row gt_right\">93</td>\n",
              "    <td style=\"color: #000000; background-color: #e1f2dd;\" class=\"gt_row gt_right\">−0.87</td>\n",
              "  </tr>\n",
              "  <tr>\n",
              "    <td class=\"gt_row gt_left\"><link href=\"https://fonts.googleapis.com/css?family=Chivo\" rel=\"stylesheet\"><p style='font-family: Chivo; bottom: 0; font-size: 14px; weight: 200'> Justin Simmons</td>\n",
              "    <td class=\"gt_row gt_left\"><img src=\"https://static.www.nfl.com/image/private/f_auto,q_auto/league/qcf9y2ancc6bqqi6czqt\" height = 40;/>\n",
              "</td>\n",
              "    <td style=\"color: #000000; background-color: #d9f0d3;\" class=\"gt_row gt_right\">0.30</td>\n",
              "    <td style=\"color: #000000; background-color: #e8d6e9;\" class=\"gt_row gt_right\">66</td>\n",
              "    <td style=\"color: #000000; background-color: #6ab06d;\" class=\"gt_row gt_right\">−0.75</td>\n",
              "  </tr>\n",
              "  <tr>\n",
              "    <td class=\"gt_row gt_left\"><link href=\"https://fonts.googleapis.com/css?family=Chivo\" rel=\"stylesheet\"><p style='font-family: Chivo; bottom: 0; font-size: 14px; weight: 200'> Rodney McLeod</td>\n",
              "    <td class=\"gt_row gt_left\"><img src=\"https://static.www.nfl.com/image/private/f_auto,q_auto/league/fsspysj8zftqm5i5prar\" height = 40;/>\n",
              "</td>\n",
              "    <td style=\"color: #000000; background-color: #dbf0d5;\" class=\"gt_row gt_right\">0.30</td>\n",
              "    <td style=\"color: #000000; background-color: #d1eccb;\" class=\"gt_row gt_right\">106</td>\n",
              "    <td style=\"color: #000000; background-color: #69af6c;\" class=\"gt_row gt_right\">−0.75</td>\n",
              "  </tr>\n",
              "  <tr>\n",
              "    <td class=\"gt_row gt_left\"><link href=\"https://fonts.googleapis.com/css?family=Chivo\" rel=\"stylesheet\"><p style='font-family: Chivo; bottom: 0; font-size: 14px; weight: 200'> Drue Tranquill</td>\n",
              "    <td class=\"gt_row gt_left\"><img src=\"https://static.www.nfl.com/image/private/f_auto,q_auto/league/ttzkmlyros0fpb7x8y2g\" height = 40;/>\n",
              "</td>\n",
              "    <td style=\"color: #000000; background-color: #c9e7c4;\" class=\"gt_row gt_right\">0.31</td>\n",
              "    <td style=\"color: #000000; background-color: #7fbf7b;\" class=\"gt_row gt_right\">124</td>\n",
              "    <td style=\"color: #000000; background-color: #5ca663;\" class=\"gt_row gt_right\">−0.74</td>\n",
              "  </tr>\n",
              "  <tr>\n",
              "    <td class=\"gt_row gt_left\"><link href=\"https://fonts.googleapis.com/css?family=Chivo\" rel=\"stylesheet\"><p style='font-family: Chivo; bottom: 0; font-size: 14px; weight: 200'> Marcus Jones</td>\n",
              "    <td class=\"gt_row gt_left\"><img src=\"https://static.www.nfl.com/image/private/f_auto,q_auto/league/nui4lxpqydrnzfu4zujr\" height = 40;/>\n",
              "</td>\n",
              "    <td style=\"color: #000000; background-color: #af8dc3;\" class=\"gt_row gt_right\">0.24</td>\n",
              "    <td style=\"color: #000000; background-color: #af8dc3;\" class=\"gt_row gt_right\">45</td>\n",
              "    <td style=\"color: #000000; background-color: #4b9a58;\" class=\"gt_row gt_right\">−0.73</td>\n",
              "  </tr>\n",
              "  <tr>\n",
              "    <td class=\"gt_row gt_left\"><link href=\"https://fonts.googleapis.com/css?family=Chivo\" rel=\"stylesheet\"><p style='font-family: Chivo; bottom: 0; font-size: 14px; weight: 200'> Kamren Curl</td>\n",
              "    <td class=\"gt_row gt_left\"><img src=\"https://static.www.nfl.com/image/private/f_auto,q_auto/league/uf3wvo3chxy3imkybe6a\" height = 40;/>\n",
              "</td>\n",
              "    <td style=\"color: #000000; background-color: #93ca8f;\" class=\"gt_row gt_right\">0.32</td>\n",
              "    <td style=\"color: #000000; background-color: #bfe2b9;\" class=\"gt_row gt_right\">110</td>\n",
              "    <td style=\"color: #FFFFFF; background-color: #1b7837;\" class=\"gt_row gt_right\">−0.69</td>\n",
              "  </tr>\n",
              "</tbody>\n",
              "\n",
              "\n",
              "</table>\n",
              "\n",
              "</div>\n",
              "        "
            ]
          },
          "metadata": {},
          "execution_count": 96
        }
      ]
    }
  ]
}